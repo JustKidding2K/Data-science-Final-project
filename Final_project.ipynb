{
 "cells": [
  {
   "cell_type": "code",
   "execution_count": null,
   "metadata": {},
   "outputs": [],
   "source": [
    "import requests\n",
    "from bs4 import BeautifulSoup\n",
    "import json\n",
    "import time\n",
    "import pandas as pd\n",
    "import datetime as dt\n",
    "import re\n",
    "import math\n",
    "\n",
    "from selenium import webdriver\n",
    "from selenium.webdriver.common.keys import Keys"
   ]
  },
  {
   "cell_type": "markdown",
   "metadata": {},
   "source": [
    "### Thu thập dữ liệu"
   ]
  },
  {
   "cell_type": "code",
   "execution_count": null,
   "metadata": {},
   "outputs": [],
   "source": [
    "browser = webdriver.Chrome(executable_path='./chromedriver.exe')"
   ]
  },
  {
   "cell_type": "code",
   "execution_count": null,
   "metadata": {},
   "outputs": [],
   "source": [
    "browser.get('https://www.thegioididong.com/dtdd')\n",
    "\n",
    "# Tắt cửa sổ quảng cáo nếu có bằng cách ấn phím Esc \n",
    "browser.find_element_by_css_selector('html').send_keys(Keys.ESCAPE)"
   ]
  },
  {
   "cell_type": "code",
   "execution_count": null,
   "metadata": {},
   "outputs": [],
   "source": [
    "try:  \n",
    "    for i in range(20):\n",
    "        browser.find_element_by_class_name(\"viewmore\").click()\n",
    "except:\n",
    "    pass"
   ]
  },
  {
   "cell_type": "code",
   "execution_count": null,
   "metadata": {},
   "outputs": [],
   "source": [
    "html_text = browser.page_source\n",
    "browser.quit()"
   ]
  },
  {
   "cell_type": "code",
   "execution_count": null,
   "metadata": {},
   "outputs": [],
   "source": [
    "tree = str(BeautifulSoup(html_text, 'html.parser'))\n",
    "\n",
    "dtdd_urls = re.findall(r'/dtdd/[\\w\\d-]+', tree)\n",
    "dtdd_urls = dtdd_urls[0:150] # Loại bỏ những loại điện thoại phím bấm vì không có đủ các thông số như ram,rom,...\n",
    "dtdd_urls = list(set(dtdd_urls)) # Xóa phần tử trùng lặp.\n",
    "# print(dtdd_urls)\n",
    "# print(len(dtdd_urls))"
   ]
  },
  {
   "cell_type": "code",
   "execution_count": null,
   "metadata": {},
   "outputs": [],
   "source": [
    "fw = open('dtdd_file.csv', 'w')\n",
    "fw.write(f\"{'price'}\\t{'screen'}\\t{'ram'}\\t{'rom'}\\t{'pin'}\\t{'camera'}\\t{'star'}\\n\")\n",
    "\n",
    "for i in range(len(dtdd_urls)):\n",
    "    try:\n",
    "        html_text = requests.get('https://thegioididong.com' + dtdd_urls[i]).text\n",
    "        tree = BeautifulSoup(html_text, 'html.parser')\n",
    "\n",
    "        text = tree.find('ul', {'class': 'parameter'}).text\n",
    "        price = tree.find('div', {'class': 'area_price'}).text\n",
    "        price = int(re.findall(r'([\\d+.]+)', price)[0].replace('.',''))\n",
    "        screen = float(re.findall(r'([\\d+.]+)\\\"', text)[0])\n",
    "        ram = int(re.findall(r'RAM:(\\d+)', text)[0])\n",
    "        rom = int(re.findall(r'Bộ nhớ trong:(\\d+)', text)[0])\n",
    "        pin = int(re.findall(r'pin:(\\d+)', text)[0])\n",
    "        camera = int(re.findall(r'sau:Chính (\\d+)', text)[0])\n",
    "        star = tree.find('div', {'class': 'lcrt'}).text\n",
    "        star = float(re.findall(r'([\\d+.]+)', star)[0])\n",
    "\n",
    "        fw.write(f'{price}\\t{screen}\\t{ram}\\t{rom}\\t{pin}\\t{camera}\\t{star}\\n')\n",
    "    except:\n",
    "        continue\n",
    "fw.close()"
   ]
  },
  {
   "cell_type": "code",
   "execution_count": null,
   "metadata": {},
   "outputs": [],
   "source": [
    "df = pd.read_csv('dtdd_file.csv', sep='\\t')\n",
    "df"
   ]
  }
 ],
 "metadata": {
  "kernelspec": {
   "display_name": "Python 3",
   "language": "python",
   "name": "python3"
  },
  "language_info": {
   "codemirror_mode": {
    "name": "ipython",
    "version": 3
   },
   "file_extension": ".py",
   "mimetype": "text/x-python",
   "name": "python",
   "nbconvert_exporter": "python",
   "pygments_lexer": "ipython3",
   "version": "3.8.3"
  }
 },
 "nbformat": 4,
 "nbformat_minor": 4
}
