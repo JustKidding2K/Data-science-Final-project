{
 "cells": [
  {
   "cell_type": "code",
   "execution_count": 1,
   "metadata": {},
   "outputs": [],
   "source": [
    "import requests\n",
    "from bs4 import BeautifulSoup\n",
    "import json\n",
    "import time\n",
    "import pandas as pd\n",
    "import datetime as dt\n",
    "import re\n",
    "import math\n",
    "import csv\n",
    "from selenium import webdriver\n",
    "from selenium.webdriver.common.keys import Keys"
   ]
  },
  {
   "cell_type": "markdown",
   "metadata": {},
   "source": [
    "### Thu thập dữ liệu"
   ]
  },
  {
   "cell_type": "code",
   "execution_count": 54,
   "metadata": {},
   "outputs": [],
   "source": [
    "#REST API\n",
    "'''\n",
    "    Sử dụng api từ openweathermap.org\n",
    "    Lấy dữ liệu chất lượng không khí tại TP HCM từ 2000 - 2021 \n",
    "    Nhận được 1032 bộ dữ liệu ~ 3 năm\n",
    "\n",
    "'''\n",
    "data=requests.get('http://api.openweathermap.org/data/2.5/air_pollution/history?lat=10.7546664&lon=106.415029&start=946726894&end=1610129052&appid=9f7c977884b479967cee75682a860b6b')"
   ]
  },
  {
   "cell_type": "code",
   "execution_count": null,
   "metadata": {},
   "outputs": [],
   "source": [
    "#Parse JSON\n",
    "air_quality=json.loads(data.text)"
   ]
  },
  {
   "cell_type": "code",
   "execution_count": 47,
   "metadata": {},
   "outputs": [
    {
     "data": {
      "text/plain": [
       "{'main': {'aqi': 4},\n",
       " 'components': {'co': 988.01,\n",
       "  'no': 18.33,\n",
       "  'no2': 26.39,\n",
       "  'o3': 0.4,\n",
       "  'so2': 15.5,\n",
       "  'pm2_5': 46.07,\n",
       "  'pm10': 60.15,\n",
       "  'nh3': 11.02},\n",
       " 'dt': 1609977600}"
      ]
     },
     "execution_count": 47,
     "metadata": {},
     "output_type": "execute_result"
    }
   ],
   "source": [
    "#Test\n",
    "air_quality['list'][0]"
   ]
  },
  {
   "cell_type": "code",
   "execution_count": 50,
   "metadata": {},
   "outputs": [],
   "source": [
    "#Simplize dicts\n",
    "def make_flat_dict(p):\n",
    "    res={};\n",
    "    components=p['components']\n",
    "    \n",
    "    res['dt']=p['dt']\n",
    "    \n",
    "    \n",
    "    res['co']=components['co']\n",
    "    \n",
    "    \n",
    "    res['no']=components['no']\n",
    "    \n",
    "    \n",
    "    res['no2']=components['no2']\n",
    "    \n",
    "    \n",
    "    res['o3']=components['o3']\n",
    "    \n",
    "    \n",
    "    res['so2']=components['so2']\n",
    "    \n",
    "    \n",
    "    res['pm2_5']=components['pm2_5']\n",
    "    \n",
    "    \n",
    "    res['pm10']=components['pm10']\n",
    "    \n",
    "  \n",
    "    res['nh3']=components['nh3']\n",
    "    \n",
    "    \n",
    "    res['aqi']=p['main']['aqi']\n",
    "    \n",
    "    return res\n",
    "    \n",
    "    pass"
   ]
  },
  {
   "cell_type": "code",
   "execution_count": 51,
   "metadata": {},
   "outputs": [],
   "source": [
    "list_records=[]\n",
    "for record in air_quality['list']:\n",
    "    list_records.append(make_flat_dict(record))\n",
    "    "
   ]
  },
  {
   "cell_type": "code",
   "execution_count": 53,
   "metadata": {},
   "outputs": [],
   "source": [
    "#Write to csv\n",
    "with open('air_quality.csv', 'w',newline='') as csvfile:\n",
    "        writer = csv.DictWriter(csvfile, fieldnames=list_records[0].keys())\n",
    "        writer.writeheader()\n",
    "        for data in list_records:\n",
    "            writer.writerow(data)"
   ]
  },
  {
   "cell_type": "code",
   "execution_count": 15,
   "metadata": {},
   "outputs": [
    {
     "data": {
      "text/plain": [
       "dict_keys(['main', 'components', 'dt'])"
      ]
     },
     "execution_count": 15,
     "metadata": {},
     "output_type": "execute_result"
    }
   ],
   "source": [
    "#Phần gsmarena chưa nỡ xóa"
   ]
  },
  {
   "cell_type": "code",
   "execution_count": 6,
   "metadata": {},
   "outputs": [],
   "source": [
    "#Get brand link\n",
    "'''\n",
    "url = 'https://www.gsmarena.com/makers.php3'\n",
    "html_text = requests.get(url).text\n",
    "\n",
    "tree = BeautifulSoup(html_text, 'html.parser')\n",
    "td=tree.select(\"td > a\")\n",
    "\n",
    "brand_href=['https://www.gsmarena.com/'+x['href'] for x in td]\n",
    "brand_href\n",
    "'''"
   ]
  },
  {
   "cell_type": "code",
   "execution_count": 28,
   "metadata": {},
   "outputs": [],
   "source": [
    "#Get product link\n",
    "'''\n",
    "product_href=[]\n",
    "for url in brand_href:\n",
    "    html_text = requests.get(url).text\n",
    "    tree = BeautifulSoup(html_text, 'html.parser')\n",
    "    lis=tree.select(\"div.makers li > a\")\n",
    "    product_href.extend(['https://www.gsmarena.com/'+x['href'] for x in lis])\n",
    "    print('new_one')\n",
    "    print(url)\n",
    "'''  "
   ]
  },
  {
   "cell_type": "code",
   "execution_count": 2,
   "metadata": {},
   "outputs": [],
   "source": [
    "#Save product link\n",
    "'''fw = open('product_link.csv', 'w')\n",
    "for row in product_href:\n",
    "    fw.write(f\"{row}\\n\")\n",
    "fw.close()'''\n",
    "#Load from csv file\n",
    "product_href=pd.read_csv('product_link.csv',sep='\\n',header=None) "
   ]
  },
  {
   "cell_type": "code",
   "execution_count": 35,
   "metadata": {},
   "outputs": [],
   "source": [
    "#Get detail of a product\n",
    "def get_detail(url):\n",
    "    a_product={}\n",
    "    product_list=[]\n",
    "    \n",
    "    html_text=requests.get(url).text\n",
    "    tree=BeautifulSoup(html_text,'html.parser')\n",
    "    \n",
    "    try:\n",
    "        a_product[\"release_day\"]=tree.find(\"span\", attrs={\"data-spec\": \"released-hl\"}).text.replace(',',';')\n",
    "    except:\n",
    "        a_product[\"release_day\"]=''\n",
    "    \n",
    "    try:\n",
    "        a_product[\"display_size\"]=tree.find(\"span\", attrs={\"data-spec\": \"displaysize-hl\"}).text[:-1].replace(',',';')\n",
    "    except:\n",
    "        pass\n",
    "    \n",
    "    try:\n",
    "        a_product[\"cpu\"]=tree.find(\"div\", attrs={\"data-spec\": \"chipset-hl\"}).text.replace(',',';')\n",
    "    except:\n",
    "        a_product[\"cpu\"]=''\n",
    "        pass\n",
    "\n",
    "    try:\n",
    "        benchmark=tree.find(\"td\", attrs={\"data-spec\": \"tbench\"}).text\n",
    "        benchmark=benchmark.replace(\"\\r\\n\",\",\")\n",
    "        a_product[\"benchmark\"]=benchmark[1:].replace(',',';')\n",
    "    except:\n",
    "        a_product[\"benchmark\"]=''\n",
    "        pass\n",
    "\n",
    "    try:\n",
    "        a_product[\"displayres\"]=tree.find(\"div\", attrs={\"data-spec\": \"displayres-hl\"}).text.replace(',',';')\n",
    "    except:\n",
    "        a_product[\"displayres\"]=''\n",
    "        pass\n",
    "\n",
    "    try:\n",
    "        a_product[\"camerapixels\"]=tree.find(\"span\", attrs={\"data-spec\": \"camerapixels-hl\"}).text.replace(',',';')\n",
    "    except:\n",
    "        a_product[\"camerapixels\"]=''\n",
    "        pass\n",
    "\n",
    "    try:\n",
    "        a_product[\"videopixels\"]=tree.find(\"div\", attrs={\"data-spec\": \"videopixels-hl\"}).text.replace(',',';')\n",
    "    except:\n",
    "        a_product[\"videopixels\"]=''\n",
    "        pass\n",
    "\n",
    "    try:\n",
    "        a_product[\"batsize\"]=tree.find(\"span\", attrs={\"data-spec\": \"batsize-hl\"}).text.replace(',',';')\n",
    "    except:\n",
    "        a_product[\"batsize\"]=''\n",
    "        pass\n",
    "\n",
    "    try:\n",
    "        price=tree.find(\"table\", attrs={\"class\": \"pricing inline widget\"}).find_all(\"tr\")\n",
    "        for var in price:\n",
    "            #ver={}\n",
    "            a_product['spec']=var.find(\"td\").text.replace(',',';')\n",
    "            a_product['price']=var.find(\"a\").text[2:].replace(',','')\n",
    "            a_product['currency']=var.find(\"a\").text[0:1].replace(',',';')\n",
    "            #a_product[\"ver\"]=ver\n",
    "            product_list.append(a_product.copy())\n",
    "    except:\n",
    "        #ver={}\n",
    "        a_product['spec']=''\n",
    "        a_product['price']=''\n",
    "        a_product['currency']=''\n",
    "        #a_product[\"ver\"]=ver\n",
    "        product_list.append(a_product.copy())\n",
    "        pass\n",
    "    return product_list\n",
    "    pass\n"
   ]
  },
  {
   "cell_type": "code",
   "execution_count": 38,
   "metadata": {},
   "outputs": [],
   "source": [
    "dicta=get_detail(product_href[0][2991])"
   ]
  },
  {
   "cell_type": "code",
   "execution_count": 39,
   "metadata": {},
   "outputs": [
    {
     "data": {
      "text/plain": [
       "[{'release_day': 'Released 2020; November 27',\n",
       "  'display_size': '6.53',\n",
       "  'cpu': 'Snapdragon 662',\n",
       "  'benchmark': 'AnTuTu: 177904 (v8);GeekBench: 1398 (v5.1);GFXBench: 5.9fps (ES 3.1 onscreen)',\n",
       "  'displayres': '1080x2340 pixels',\n",
       "  'camerapixels': '48',\n",
       "  'videopixels': '1080p',\n",
       "  'batsize': '6000',\n",
       "  'spec': '64GB 4GB RAM',\n",
       "  'price': '219.99',\n",
       "  'currency': '$'},\n",
       " {'release_day': 'Released 2020; November 27',\n",
       "  'display_size': '6.53',\n",
       "  'cpu': 'Snapdragon 662',\n",
       "  'benchmark': 'AnTuTu: 177904 (v8);GeekBench: 1398 (v5.1);GFXBench: 5.9fps (ES 3.1 onscreen)',\n",
       "  'displayres': '1080x2340 pixels',\n",
       "  'camerapixels': '48',\n",
       "  'videopixels': '1080p',\n",
       "  'batsize': '6000',\n",
       "  'spec': '128GB 4GB RAM',\n",
       "  'price': '239.99',\n",
       "  'currency': '$'}]"
      ]
     },
     "execution_count": 39,
     "metadata": {},
     "output_type": "execute_result"
    }
   ],
   "source": [
    "dicta"
   ]
  },
  {
   "cell_type": "code",
   "execution_count": 25,
   "metadata": {},
   "outputs": [
    {
     "data": {
      "text/plain": [
       "'https://www.gsmarena.com/xiaomi_poco_m3-10599.php'"
      ]
     },
     "execution_count": 25,
     "metadata": {},
     "output_type": "execute_result"
    }
   ],
   "source": [
    "product_href[0][2991]"
   ]
  },
  {
   "cell_type": "code",
   "execution_count": 7,
   "metadata": {},
   "outputs": [
    {
     "data": {
      "text/plain": [
       "['release_day',\n",
       " 'display_size',\n",
       " 'cpu',\n",
       " 'benchmark',\n",
       " 'displayres',\n",
       " 'camerapixels',\n",
       " 'videopixels',\n",
       " 'batsize',\n",
       " 'spec',\n",
       " 'price',\n",
       " 'currency']"
      ]
     },
     "execution_count": 7,
     "metadata": {},
     "output_type": "execute_result"
    }
   ],
   "source": [
    "list(dicta[0].keys())"
   ]
  },
  {
   "cell_type": "code",
   "execution_count": 40,
   "metadata": {},
   "outputs": [],
   "source": [
    "#Thử với 30 sản phẩm\n",
    "product_list=[]\n",
    "product_href_slice=product_href[0][3000:3005]\n",
    "count=1\n",
    "for url in product_href_slice:\n",
    "    product_list.extend(get_detail(url))\n",
    "    time.sleep(30)#set nhieu nhieu vao khong la bi too many request :("
   ]
  },
  {
   "cell_type": "code",
   "execution_count": 43,
   "metadata": {},
   "outputs": [
    {
     "data": {
      "text/plain": [
       "[{'release_day': 'Released 2020; September 09',\n",
       "  'display_size': '6.53',\n",
       "  'cpu': 'Helio G25',\n",
       "  'benchmark': '',\n",
       "  'displayres': '720x1600 pixels',\n",
       "  'camerapixels': '13',\n",
       "  'videopixels': '1080p',\n",
       "  'batsize': '5000',\n",
       "  'spec': '32GB 2GB RAM',\n",
       "  'price': '108.99',\n",
       "  'currency': '€'},\n",
       " {'release_day': 'Released 2020; September 18',\n",
       "  'display_size': '6.53',\n",
       "  'cpu': 'Helio G25',\n",
       "  'benchmark': '',\n",
       "  'displayres': '720x1600 pixels',\n",
       "  'camerapixels': '13',\n",
       "  'videopixels': '1080p',\n",
       "  'batsize': '5000',\n",
       "  'spec': '64GB 4GB RAM',\n",
       "  'price': '8893',\n",
       "  'currency': '₹'},\n",
       " {'release_day': 'Released 2020; September 18',\n",
       "  'display_size': '6.53',\n",
       "  'cpu': 'Helio G25',\n",
       "  'benchmark': '',\n",
       "  'displayres': '720x1600 pixels',\n",
       "  'camerapixels': '13',\n",
       "  'videopixels': '1080p',\n",
       "  'batsize': '5000',\n",
       "  'spec': '128GB 4GB RAM',\n",
       "  'price': '9770',\n",
       "  'currency': '₹'},\n",
       " {'release_day': 'Released 2020; September 15',\n",
       "  'display_size': '6.53',\n",
       "  'cpu': 'Helio G80',\n",
       "  'benchmark': '',\n",
       "  'displayres': '1080x2340 pixels',\n",
       "  'camerapixels': '13',\n",
       "  'videopixels': '1080p',\n",
       "  'batsize': '5000',\n",
       "  'spec': '64GB 6GB RAM',\n",
       "  'price': '11088',\n",
       "  'currency': '₹'},\n",
       " {'release_day': 'Released 2020; September 15',\n",
       "  'display_size': '6.53',\n",
       "  'cpu': 'Helio G80',\n",
       "  'benchmark': '',\n",
       "  'displayres': '1080x2340 pixels',\n",
       "  'camerapixels': '13',\n",
       "  'videopixels': '1080p',\n",
       "  'batsize': '5000',\n",
       "  'spec': '128GB 6GB RAM',\n",
       "  'price': '12435',\n",
       "  'currency': '₹'},\n",
       " {'release_day': 'Released 2020; September 29',\n",
       "  'display_size': '6.67',\n",
       "  'cpu': 'Snapdragon 732G',\n",
       "  'benchmark': '',\n",
       "  'displayres': '1080x2400 pixels',\n",
       "  'camerapixels': '64',\n",
       "  'videopixels': '2160p',\n",
       "  'batsize': '6000',\n",
       "  'spec': '64GB 6GB RAM',\n",
       "  'price': '249.99',\n",
       "  'currency': '$'},\n",
       " {'release_day': 'Released 2020; September 29',\n",
       "  'display_size': '6.67',\n",
       "  'cpu': 'Snapdragon 732G',\n",
       "  'benchmark': '',\n",
       "  'displayres': '1080x2400 pixels',\n",
       "  'camerapixels': '64',\n",
       "  'videopixels': '2160p',\n",
       "  'batsize': '6000',\n",
       "  'spec': '128GB 6GB RAM',\n",
       "  'price': '269.99',\n",
       "  'currency': '$'},\n",
       " {'release_day': 'Released 2020; September 29',\n",
       "  'display_size': '6.67',\n",
       "  'cpu': 'Snapdragon 732G',\n",
       "  'benchmark': '',\n",
       "  'displayres': '1080x2400 pixels',\n",
       "  'camerapixels': '64',\n",
       "  'videopixels': '2160p',\n",
       "  'batsize': '6000',\n",
       "  'spec': '128GB 8GB RAM',\n",
       "  'price': '21799',\n",
       "  'currency': '₹'},\n",
       " {'release_day': 'Released 2020; September 08',\n",
       "  'display_size': '6.67',\n",
       "  'cpu': 'Snapdragon 732G',\n",
       "  'benchmark': 'AnTuTu: 283750 (v8);GeekBench: 1777 (v5.1);GFXBench: 16fps (ES 3.1 onscreen)',\n",
       "  'displayres': '1080x2400 pixels',\n",
       "  'camerapixels': '64',\n",
       "  'videopixels': '2160p',\n",
       "  'batsize': '5160',\n",
       "  'spec': '64GB 6GB RAM',\n",
       "  'price': '249.99',\n",
       "  'currency': '$'},\n",
       " {'release_day': 'Released 2020; September 08',\n",
       "  'display_size': '6.67',\n",
       "  'cpu': 'Snapdragon 732G',\n",
       "  'benchmark': 'AnTuTu: 283750 (v8);GeekBench: 1777 (v5.1);GFXBench: 16fps (ES 3.1 onscreen)',\n",
       "  'displayres': '1080x2400 pixels',\n",
       "  'camerapixels': '64',\n",
       "  'videopixels': '2160p',\n",
       "  'batsize': '5160',\n",
       "  'spec': '128GB 6GB RAM',\n",
       "  'price': '269.99',\n",
       "  'currency': '$'}]"
      ]
     },
     "execution_count": 43,
     "metadata": {},
     "output_type": "execute_result"
    }
   ],
   "source": [
    "(product_list)"
   ]
  },
  {
   "cell_type": "code",
   "execution_count": 47,
   "metadata": {},
   "outputs": [
    {
     "name": "stdout",
     "output_type": "stream",
     "text": [
      "{'release_day': 'Released 2018; July', 'display_size': '9.7', 'cpu': 'Rockchip RK3399', 'benchmark': '', 'displayres': '1536x2048 pixels', 'camerapixels': '5', 'videopixels': '720p', 'batsize': '4500', 'spec': '', 'price': '', 'currency': ''}\n",
      "{'release_day': 'Released 2016; October', 'display_size': '7.0', 'cpu': 'MT8735', 'benchmark': '', 'displayres': '720x1280 pixels', 'camerapixels': '13', 'videopixels': '1080p', 'batsize': '3400', 'spec': '', 'price': '', 'currency': ''}\n",
      "{'release_day': 'Released 2016; December', 'display_size': '5.5', 'cpu': 'MT6753', 'benchmark': '', 'displayres': '1080x1920 pixels', 'camerapixels': '13', 'videopixels': '1080p', 'batsize': '4080', 'spec': '', 'price': '', 'currency': ''}\n",
      "{'release_day': 'Released 2016; December', 'display_size': '5.0', 'cpu': 'MT6737', 'benchmark': '', 'displayres': '720x1280 pixels', 'camerapixels': '8', 'videopixels': 'Video recorder', 'batsize': '2000', 'spec': '', 'price': '', 'currency': ''}\n",
      "{'release_day': 'Released 2016; June', 'display_size': '10.1', 'cpu': 'MT8163A', 'benchmark': '', 'displayres': '1920x1200 pixels', 'camerapixels': '5', 'videopixels': '1080p', 'batsize': '6100', 'spec': '', 'price': '', 'currency': ''}\n",
      "{'release_day': 'Released 2016; February', 'display_size': '5.5', 'cpu': 'MT6753', 'benchmark': 'Basemark OS II 2.0: 825Basemark X: 4300', 'displayres': '720x1280 pixels', 'camerapixels': '13', 'videopixels': '1080p', 'batsize': '4020', 'spec': '', 'price': '', 'currency': ''}\n",
      "{'release_day': 'Released 2016; February', 'display_size': '5.5', 'cpu': 'Snapdragon 808', 'benchmark': '', 'displayres': '1080x1920 pixels', 'camerapixels': '21', 'videopixels': '2160p', 'batsize': '3000', 'spec': '', 'price': '', 'currency': ''}\n",
      "{'release_day': 'Released 2016; July', 'display_size': '5.5', 'cpu': 'MT6735', 'benchmark': '', 'displayres': '720x1280 pixels', 'camerapixels': '13', 'videopixels': '1080p', 'batsize': '5000', 'spec': '', 'price': '', 'currency': ''}\n",
      "{'release_day': 'Released 2016; April', 'display_size': '5.0', 'cpu': 'MT6580', 'benchmark': '', 'displayres': '720x1280 pixels', 'camerapixels': '8', 'videopixels': '1080p', 'batsize': '2000', 'spec': '', 'price': '', 'currency': ''}\n",
      "{'release_day': 'Released 2015; November', 'display_size': '8.0', 'cpu': 'Intel Atom x7-Z8700', 'benchmark': '', 'displayres': '1920x1200 pixels', 'camerapixels': '5', 'videopixels': '1080p', 'batsize': '4420', 'spec': '', 'price': '', 'currency': ''}\n",
      "{'release_day': '', 'cpu': '', 'benchmark': '', 'displayres': '', 'camerapixels': '', 'videopixels': '', 'batsize': '', 'spec': '', 'price': '', 'currency': ''}\n",
      "{'release_day': '', 'cpu': '', 'benchmark': '', 'displayres': '', 'camerapixels': '', 'videopixels': '', 'batsize': '', 'spec': '', 'price': '', 'currency': ''}\n",
      "{'release_day': '', 'cpu': '', 'benchmark': '', 'displayres': '', 'camerapixels': '', 'videopixels': '', 'batsize': '', 'spec': '', 'price': '', 'currency': ''}\n",
      "{'release_day': '', 'cpu': '', 'benchmark': '', 'displayres': '', 'camerapixels': '', 'videopixels': '', 'batsize': '', 'spec': '', 'price': '', 'currency': ''}\n",
      "{'release_day': '', 'cpu': '', 'benchmark': '', 'displayres': '', 'camerapixels': '', 'videopixels': '', 'batsize': '', 'spec': '', 'price': '', 'currency': ''}\n"
     ]
    },
    {
     "ename": "KeyboardInterrupt",
     "evalue": "",
     "output_type": "error",
     "traceback": [
      "\u001b[1;31m---------------------------------------------------------------------------\u001b[0m",
      "\u001b[1;31mKeyboardInterrupt\u001b[0m                         Traceback (most recent call last)",
      "\u001b[1;32m<ipython-input-47-e1344c117eee>\u001b[0m in \u001b[0;36m<module>\u001b[1;34m\u001b[0m\n\u001b[0;32m      8\u001b[0m         \u001b[1;32mfor\u001b[0m \u001b[0murl\u001b[0m \u001b[1;32min\u001b[0m \u001b[0mproduct_href_slice\u001b[0m\u001b[1;33m:\u001b[0m\u001b[1;33m\u001b[0m\u001b[1;33m\u001b[0m\u001b[0m\n\u001b[0;32m      9\u001b[0m             \u001b[0mproduct_list\u001b[0m\u001b[1;33m.\u001b[0m\u001b[0mextend\u001b[0m\u001b[1;33m(\u001b[0m\u001b[0mget_detail\u001b[0m\u001b[1;33m(\u001b[0m\u001b[0murl\u001b[0m\u001b[1;33m)\u001b[0m\u001b[1;33m)\u001b[0m\u001b[1;33m\u001b[0m\u001b[1;33m\u001b[0m\u001b[0m\n\u001b[1;32m---> 10\u001b[1;33m             \u001b[0mtime\u001b[0m\u001b[1;33m.\u001b[0m\u001b[0msleep\u001b[0m\u001b[1;33m(\u001b[0m\u001b[1;36m30\u001b[0m\u001b[1;33m)\u001b[0m\u001b[1;31m#set nhieu nhieu vao khong la bi too many request :(\u001b[0m\u001b[1;33m\u001b[0m\u001b[1;33m\u001b[0m\u001b[0m\n\u001b[0m\u001b[0;32m     11\u001b[0m         \u001b[1;32mfor\u001b[0m \u001b[0mdata\u001b[0m \u001b[1;32min\u001b[0m \u001b[0mproduct_list\u001b[0m\u001b[1;33m:\u001b[0m\u001b[1;33m\u001b[0m\u001b[1;33m\u001b[0m\u001b[0m\n\u001b[0;32m     12\u001b[0m             \u001b[0mprint\u001b[0m\u001b[1;33m(\u001b[0m\u001b[0mdata\u001b[0m\u001b[1;33m)\u001b[0m\u001b[1;33m\u001b[0m\u001b[1;33m\u001b[0m\u001b[0m\n",
      "\u001b[1;31mKeyboardInterrupt\u001b[0m: "
     ]
    }
   ],
   "source": [
    "with open('specify_info_gasmarena.csv', 'w', newline='',encoding=\"utf-8\") as csvfile:\n",
    "    writer = csv.DictWriter(csvfile, fieldnames=list(product_list[0].keys()))\n",
    "    writer.writeheader()\n",
    "    \n",
    "    for i in range(5):\n",
    "        product_href_slice=product_href[0][5*i:5*i+5]\n",
    "        product_list=[]\n",
    "        for url in product_href_slice:\n",
    "            product_list.extend(get_detail(url))\n",
    "            time.sleep(30)#set nhieu nhieu vao khong la bi too many request :(\n",
    "        for data in product_list:\n",
    "            print(data)\n",
    "            writer.writerow(data)\n",
    "        "
   ]
  },
  {
   "cell_type": "code",
   "execution_count": null,
   "metadata": {},
   "outputs": [],
   "source": [
    "#Phan ong lam o ben duoi"
   ]
  },
  {
   "cell_type": "code",
   "execution_count": 3,
   "metadata": {},
   "outputs": [],
   "source": [
    "browser = webdriver.Chrome(executable_path='./chromedriver.exe')"
   ]
  },
  {
   "cell_type": "code",
   "execution_count": 29,
   "metadata": {},
   "outputs": [],
   "source": [
    "browser.get('https://www.gsmarena.com/makers.php3')\n",
    "\n",
    "# Tắt cửa sổ quảng cáo nếu có bằng cách ấn phím Esc \n",
    "browser.find_element_by_css_selector('html').send_keys(Keys.ESCAPE)"
   ]
  },
  {
   "cell_type": "code",
   "execution_count": 30,
   "metadata": {},
   "outputs": [],
   "source": [
    "array_brand = browser.find_element_by_css_selector('td > a')"
   ]
  },
  {
   "cell_type": "code",
   "execution_count": 31,
   "metadata": {},
   "outputs": [
    {
     "data": {
      "text/plain": [
       "<selenium.webdriver.remote.webelement.WebElement (session=\"a903077cf2aab2f02cde4153e0e6a846\", element=\"10c42893-e81d-4cfe-9389-1107b4973311\")>"
      ]
     },
     "execution_count": 31,
     "metadata": {},
     "output_type": "execute_result"
    }
   ],
   "source": [
    "array_brand = tree.select(\"td > a\")"
   ]
  },
  {
   "cell_type": "code",
   "execution_count": 14,
   "metadata": {},
   "outputs": [
    {
     "ename": "StaleElementReferenceException",
     "evalue": "Message: stale element reference: element is not attached to the page document\n  (Session info: chrome=87.0.4280.88)\n",
     "output_type": "error",
     "traceback": [
      "\u001b[1;31m---------------------------------------------------------------------------\u001b[0m",
      "\u001b[1;31mStaleElementReferenceException\u001b[0m            Traceback (most recent call last)",
      "\u001b[1;32m<ipython-input-14-b1f058f92f8b>\u001b[0m in \u001b[0;36m<module>\u001b[1;34m\u001b[0m\n\u001b[0;32m      1\u001b[0m \u001b[1;32mfor\u001b[0m \u001b[0mi\u001b[0m \u001b[1;32min\u001b[0m \u001b[0marray_brand\u001b[0m\u001b[1;33m:\u001b[0m\u001b[1;33m\u001b[0m\u001b[1;33m\u001b[0m\u001b[0m\n\u001b[1;32m----> 2\u001b[1;33m     \u001b[0mi\u001b[0m\u001b[1;33m.\u001b[0m\u001b[0mclick\u001b[0m\u001b[1;33m(\u001b[0m\u001b[1;33m)\u001b[0m\u001b[1;33m\u001b[0m\u001b[1;33m\u001b[0m\u001b[0m\n\u001b[0m",
      "\u001b[1;32mC:\\ProgramData\\Anaconda3\\lib\\site-packages\\selenium\\webdriver\\remote\\webelement.py\u001b[0m in \u001b[0;36mclick\u001b[1;34m(self)\u001b[0m\n\u001b[0;32m     78\u001b[0m     \u001b[1;32mdef\u001b[0m \u001b[0mclick\u001b[0m\u001b[1;33m(\u001b[0m\u001b[0mself\u001b[0m\u001b[1;33m)\u001b[0m\u001b[1;33m:\u001b[0m\u001b[1;33m\u001b[0m\u001b[1;33m\u001b[0m\u001b[0m\n\u001b[0;32m     79\u001b[0m         \u001b[1;34m\"\"\"Clicks the element.\"\"\"\u001b[0m\u001b[1;33m\u001b[0m\u001b[1;33m\u001b[0m\u001b[0m\n\u001b[1;32m---> 80\u001b[1;33m         \u001b[0mself\u001b[0m\u001b[1;33m.\u001b[0m\u001b[0m_execute\u001b[0m\u001b[1;33m(\u001b[0m\u001b[0mCommand\u001b[0m\u001b[1;33m.\u001b[0m\u001b[0mCLICK_ELEMENT\u001b[0m\u001b[1;33m)\u001b[0m\u001b[1;33m\u001b[0m\u001b[1;33m\u001b[0m\u001b[0m\n\u001b[0m\u001b[0;32m     81\u001b[0m \u001b[1;33m\u001b[0m\u001b[0m\n\u001b[0;32m     82\u001b[0m     \u001b[1;32mdef\u001b[0m \u001b[0msubmit\u001b[0m\u001b[1;33m(\u001b[0m\u001b[0mself\u001b[0m\u001b[1;33m)\u001b[0m\u001b[1;33m:\u001b[0m\u001b[1;33m\u001b[0m\u001b[1;33m\u001b[0m\u001b[0m\n",
      "\u001b[1;32mC:\\ProgramData\\Anaconda3\\lib\\site-packages\\selenium\\webdriver\\remote\\webelement.py\u001b[0m in \u001b[0;36m_execute\u001b[1;34m(self, command, params)\u001b[0m\n\u001b[0;32m    631\u001b[0m             \u001b[0mparams\u001b[0m \u001b[1;33m=\u001b[0m \u001b[1;33m{\u001b[0m\u001b[1;33m}\u001b[0m\u001b[1;33m\u001b[0m\u001b[1;33m\u001b[0m\u001b[0m\n\u001b[0;32m    632\u001b[0m         \u001b[0mparams\u001b[0m\u001b[1;33m[\u001b[0m\u001b[1;34m'id'\u001b[0m\u001b[1;33m]\u001b[0m \u001b[1;33m=\u001b[0m \u001b[0mself\u001b[0m\u001b[1;33m.\u001b[0m\u001b[0m_id\u001b[0m\u001b[1;33m\u001b[0m\u001b[1;33m\u001b[0m\u001b[0m\n\u001b[1;32m--> 633\u001b[1;33m         \u001b[1;32mreturn\u001b[0m \u001b[0mself\u001b[0m\u001b[1;33m.\u001b[0m\u001b[0m_parent\u001b[0m\u001b[1;33m.\u001b[0m\u001b[0mexecute\u001b[0m\u001b[1;33m(\u001b[0m\u001b[0mcommand\u001b[0m\u001b[1;33m,\u001b[0m \u001b[0mparams\u001b[0m\u001b[1;33m)\u001b[0m\u001b[1;33m\u001b[0m\u001b[1;33m\u001b[0m\u001b[0m\n\u001b[0m\u001b[0;32m    634\u001b[0m \u001b[1;33m\u001b[0m\u001b[0m\n\u001b[0;32m    635\u001b[0m     \u001b[1;32mdef\u001b[0m \u001b[0mfind_element\u001b[0m\u001b[1;33m(\u001b[0m\u001b[0mself\u001b[0m\u001b[1;33m,\u001b[0m \u001b[0mby\u001b[0m\u001b[1;33m=\u001b[0m\u001b[0mBy\u001b[0m\u001b[1;33m.\u001b[0m\u001b[0mID\u001b[0m\u001b[1;33m,\u001b[0m \u001b[0mvalue\u001b[0m\u001b[1;33m=\u001b[0m\u001b[1;32mNone\u001b[0m\u001b[1;33m)\u001b[0m\u001b[1;33m:\u001b[0m\u001b[1;33m\u001b[0m\u001b[1;33m\u001b[0m\u001b[0m\n",
      "\u001b[1;32mC:\\ProgramData\\Anaconda3\\lib\\site-packages\\selenium\\webdriver\\remote\\webdriver.py\u001b[0m in \u001b[0;36mexecute\u001b[1;34m(self, driver_command, params)\u001b[0m\n\u001b[0;32m    319\u001b[0m         \u001b[0mresponse\u001b[0m \u001b[1;33m=\u001b[0m \u001b[0mself\u001b[0m\u001b[1;33m.\u001b[0m\u001b[0mcommand_executor\u001b[0m\u001b[1;33m.\u001b[0m\u001b[0mexecute\u001b[0m\u001b[1;33m(\u001b[0m\u001b[0mdriver_command\u001b[0m\u001b[1;33m,\u001b[0m \u001b[0mparams\u001b[0m\u001b[1;33m)\u001b[0m\u001b[1;33m\u001b[0m\u001b[1;33m\u001b[0m\u001b[0m\n\u001b[0;32m    320\u001b[0m         \u001b[1;32mif\u001b[0m \u001b[0mresponse\u001b[0m\u001b[1;33m:\u001b[0m\u001b[1;33m\u001b[0m\u001b[1;33m\u001b[0m\u001b[0m\n\u001b[1;32m--> 321\u001b[1;33m             \u001b[0mself\u001b[0m\u001b[1;33m.\u001b[0m\u001b[0merror_handler\u001b[0m\u001b[1;33m.\u001b[0m\u001b[0mcheck_response\u001b[0m\u001b[1;33m(\u001b[0m\u001b[0mresponse\u001b[0m\u001b[1;33m)\u001b[0m\u001b[1;33m\u001b[0m\u001b[1;33m\u001b[0m\u001b[0m\n\u001b[0m\u001b[0;32m    322\u001b[0m             response['value'] = self._unwrap_value(\n\u001b[0;32m    323\u001b[0m                 response.get('value', None))\n",
      "\u001b[1;32mC:\\ProgramData\\Anaconda3\\lib\\site-packages\\selenium\\webdriver\\remote\\errorhandler.py\u001b[0m in \u001b[0;36mcheck_response\u001b[1;34m(self, response)\u001b[0m\n\u001b[0;32m    240\u001b[0m                 \u001b[0malert_text\u001b[0m \u001b[1;33m=\u001b[0m \u001b[0mvalue\u001b[0m\u001b[1;33m[\u001b[0m\u001b[1;34m'alert'\u001b[0m\u001b[1;33m]\u001b[0m\u001b[1;33m.\u001b[0m\u001b[0mget\u001b[0m\u001b[1;33m(\u001b[0m\u001b[1;34m'text'\u001b[0m\u001b[1;33m)\u001b[0m\u001b[1;33m\u001b[0m\u001b[1;33m\u001b[0m\u001b[0m\n\u001b[0;32m    241\u001b[0m             \u001b[1;32mraise\u001b[0m \u001b[0mexception_class\u001b[0m\u001b[1;33m(\u001b[0m\u001b[0mmessage\u001b[0m\u001b[1;33m,\u001b[0m \u001b[0mscreen\u001b[0m\u001b[1;33m,\u001b[0m \u001b[0mstacktrace\u001b[0m\u001b[1;33m,\u001b[0m \u001b[0malert_text\u001b[0m\u001b[1;33m)\u001b[0m\u001b[1;33m\u001b[0m\u001b[1;33m\u001b[0m\u001b[0m\n\u001b[1;32m--> 242\u001b[1;33m         \u001b[1;32mraise\u001b[0m \u001b[0mexception_class\u001b[0m\u001b[1;33m(\u001b[0m\u001b[0mmessage\u001b[0m\u001b[1;33m,\u001b[0m \u001b[0mscreen\u001b[0m\u001b[1;33m,\u001b[0m \u001b[0mstacktrace\u001b[0m\u001b[1;33m)\u001b[0m\u001b[1;33m\u001b[0m\u001b[1;33m\u001b[0m\u001b[0m\n\u001b[0m\u001b[0;32m    243\u001b[0m \u001b[1;33m\u001b[0m\u001b[0m\n\u001b[0;32m    244\u001b[0m     \u001b[1;32mdef\u001b[0m \u001b[0m_value_or_default\u001b[0m\u001b[1;33m(\u001b[0m\u001b[0mself\u001b[0m\u001b[1;33m,\u001b[0m \u001b[0mobj\u001b[0m\u001b[1;33m,\u001b[0m \u001b[0mkey\u001b[0m\u001b[1;33m,\u001b[0m \u001b[0mdefault\u001b[0m\u001b[1;33m)\u001b[0m\u001b[1;33m:\u001b[0m\u001b[1;33m\u001b[0m\u001b[1;33m\u001b[0m\u001b[0m\n",
      "\u001b[1;31mStaleElementReferenceException\u001b[0m: Message: stale element reference: element is not attached to the page document\n  (Session info: chrome=87.0.4280.88)\n"
     ]
    }
   ],
   "source": [
    "for i in array_brand:\n",
    "    i.click()"
   ]
  },
  {
   "cell_type": "code",
   "execution_count": 6,
   "metadata": {},
   "outputs": [],
   "source": [
    "try:  \n",
    "    for i in range(20):\n",
    "        browser.find_element_by_class_name(\"viewmore\").click()\n",
    "except:\n",
    "    pass"
   ]
  },
  {
   "cell_type": "code",
   "execution_count": 7,
   "metadata": {},
   "outputs": [],
   "source": [
    "html_text = browser.page_source\n",
    "browser.quit()"
   ]
  },
  {
   "cell_type": "code",
   "execution_count": 8,
   "metadata": {},
   "outputs": [
    {
     "name": "stdout",
     "output_type": "stream",
     "text": [
      "['/dtdd/realme-6i', '/dtdd/xiaomi-redmi-note-8', '/dtdd/nokia-6300-4g', '/dtdd/vivo-x50-pro', '/dtdd/samsung-galaxy-s20-fan-edition', '/dtdd/samsung-galaxy-a01', '/dtdd/realme-7-pro', '/dtdd/xiaomi-redmi-9', '/dtdd/realme-c11', '/dtdd/vsmart-star-4-16gb', '/dtdd/iphone-se-128gb-2020-hop-moi', '/dtdd/vivo-y50', '/dtdd/samsung-galaxy-a11', '/dtdd/oppo-a92', '/dtdd/xiaomi-redmi-note-8-128gb', '/dtdd/iphone-11-128gb', '/dtdd/nokia-24', '/dtdd/samsung-galaxy-z-fold-2', '/dtdd/nokia-c2', '/dtdd/vsmart-joy-4', '/dtdd/oppo-reno5', '/dtdd/xiaomi-redmi-note-9-pro', '/dtdd/vsmart-joy-4-4gb-64gb', '/dtdd/nokia-5310-2020', '/dtdd/iphone-se-64gb-2020-hop-moi', '/dtdd/samsung-galaxy-m51', '/dtdd/oppo-a15', '/dtdd/nokia-53', '/dtdd/vsmart-aris-pro', '/dtdd/samsung-galaxy-note-10-lite', '/dtdd/vsmart-active-3-6gb', '/dtdd/vsmart-star-4', '/dtdd/vsmart-bee-3', '/dtdd/oneplus-nord-n10-5g', '/dtdd/iphone-7-128gb', '/dtdd/iphone-12-pro-256gb', '/dtdd/vivo-y12s', '/dtdd/huawei-nova-7i', '/dtdd/iphone-12-mini-128gb', '/dtdd/vsmart-star-4-3gb', '/dtdd/vsmart-aris', '/dtdd/iphone-12-mini-256gb', '/dtdd/vivo-u10', '/dtdd/oppo-reno3-pro', '/dtdd/realme-6-pro', '/dtdd/iphone-12-pro-max-512gb', '/dtdd/oneplus-nord-5g', '/dtdd/samsung-galaxy-a31', '/dtdd/samsung-galaxy-a02s', '/dtdd/xiaomi-redmi-9a', '/dtdd/vivo-v19', '/dtdd/samsung-galaxy-a71', '/dtdd/vivo', '/dtdd/vivo-y11', '/dtdd/iphone-12-256gb', '/dtdd/samsung-galaxy-a12', '/dtdd/samsung-galaxy-a51-8gb', '/dtdd/vsmart-live-4-6gb', '/dtdd/nokia-8000-4g', '/dtdd/masstel-hapi-10-fami', '/dtdd/vivo-v20-se', '/dtdd/samsung-galaxy-a21s-3gb', '/dtdd/samsung-galaxy-s10-lite', '/dtdd/nokia-34', '/dtdd/samsung-galaxy-a51', '/dtdd/nokia-230-khong-the', '/dtdd/xiaomi-redmi-note-9s', '/dtdd/iphone-11', '/dtdd/oppo-a31-2020-128gb', '/dtdd/vivo-y20', '/dtdd/oppo-find-x2', '/dtdd/huawei-y6p', '/dtdd/nokia-83', '/dtdd/xiaomi-redmi-9c-3gb', '/dtdd/itel-alpha-lite', '/dtdd/iphone-12-128gb', '/dtdd/vivo-v20', '/dtdd/vivo-v19-neo', '/dtdd/samsung-galaxy-s20-plus', '/dtdd/samsung-galaxy-note-20-ultra-5g', '/dtdd/vivo-y19', '/dtdd/realme-c3-64gb', '/dtdd/iphone-12-pro', '/dtdd/realme-c17', '/dtdd/vivo-y20s', '/dtdd/iphone-11-pro-256gb', '/dtdd/iphone-se-128gb-2020', '/dtdd/vsmart-live-4', '/dtdd/vsmart-joy-4-6gb', '/dtdd/vivo-s1-pro', '/dtdd/samsung-galaxy-z-flip', '/dtdd/realme-6', '/dtdd/xiaomi-poco-x3', '/dtdd/iphone-12-mini', '/dtdd/xiaomi-redmi-note-9', '/dtdd/oppo-a53-2020', '/dtdd/samsung-galaxy-a50s', '/dtdd/samsung-galaxy-a12-6gb', '/dtdd/itel-s15-pro', '/dtdd/xiaomi-redmi-9c', '/dtdd/samsung-galaxy-a21s', '/dtdd/iphone-12-pro-max', '/dtdd/vivo-y30', '/dtdd/iphone-11-pro-max-512gb', '/dtdd/realme-7', '/dtdd/iphone-12-pro-512gb', '/dtdd/iphone-se-256gb-2020', '/dtdd/oppo-a31-4gb-128gb', '/dtdd/vsmart-aris-8gb-128gb', '/dtdd/iphone-xs', '/dtdd/oneplus-8-pro', '/dtdd/realme-c3', '/dtdd/vivo-y1s', '/dtdd/realme-c12', '/dtdd/samsung-galaxy-z-fold2-5g-dac-biet', '/dtdd/samsung-galaxy-note-20-ultra', '/dtdd/oppo-reno4-pro', '/dtdd/samsung-galaxy-a20s', '/dtdd/iphone-12-pro-max-256gb', '/dtdd/xiaomi-redmi-note-9-pro-128gb', '/dtdd/samsung-galaxy-note-20', '/dtdd/iphone-11-256gb', '/dtdd/oneplus-8t', '/dtdd/oppo-reno4', '/dtdd/vsmart-joy-3', '/dtdd/oppo-a93', '/dtdd/samsung-galaxy-s20', '/dtdd/samsung-galaxy-a20s-32gb', '/dtdd/iphone-xr', '/dtdd/iphone-12', '/dtdd/samsung-galaxy-a70', '/dtdd/vivo-y12s-4gb-128gb', '/dtdd/oppo-a12', '/dtdd/xiaomi-mi-10t-pro', '/dtdd/samsung-galaxy-note-20-ultra-5g-trang', '/dtdd/xiaomi-redmi-9-3gb', '/dtdd/realme-c15', '/dtdd/iphone-7', '/dtdd/samsung-galaxy-note-10-plus', '/dtdd/iphone-se-2020', '/dtdd/realme-5i-4gb', '/dtdd/oppo-reno3', '/dtdd/vsmart-joy-3-4gb', '/dtdd/xiaomi-redmi-note-8-32gb', '/dtdd/xiaomi-redmi-note-8-pro-6gb-128gb', '/dtdd/realme-7i']\n"
     ]
    }
   ],
   "source": [
    "tree = str(BeautifulSoup(html_text, 'html.parser'))\n",
    "\n",
    "dtdd_urls = re.findall(r'/dtdd/[\\w\\d-]+', tree)\n",
    "dtdd_urls = dtdd_urls[0:150] # Loại bỏ những loại điện thoại phím bấm vì không có đủ các thông số như ram,rom,...\n",
    "dtdd_urls = list(set(dtdd_urls)) # Xóa phần tử trùng lặp.\n",
    "# print(dtdd_urls)\n",
    "# print(len(dtdd_urls))"
   ]
  },
  {
   "cell_type": "code",
   "execution_count": 9,
   "metadata": {},
   "outputs": [],
   "source": [
    "fw = open('dtdd_file.csv', 'w')\n",
    "fw.write(f\"{'price'}\\t{'screen'}\\t{'ram'}\\t{'rom'}\\t{'pin'}\\t{'camera'}\\t{'star'}\\n\")\n",
    "\n",
    "for i in range(len(dtdd_urls)):\n",
    "    try:\n",
    "        html_text = requests.get('https://thegioididong.com' + dtdd_urls[i]).text\n",
    "        tree = BeautifulSoup(html_text, 'html.parser')\n",
    "\n",
    "        text = tree.find('ul', {'class': 'parameter'}).text\n",
    "        price = tree.find('div', {'class': 'area_price'}).text\n",
    "        price = int(re.findall(r'([\\d+.]+)', price)[0].replace('.',''))\n",
    "        screen = float(re.findall(r'([\\d+.]+)\\\"', text)[0])\n",
    "        ram = int(re.findall(r'RAM:(\\d+)', text)[0])\n",
    "        rom = int(re.findall(r'Bộ nhớ trong:(\\d+)', text)[0])\n",
    "        pin = int(re.findall(r'pin:(\\d+)', text)[0])\n",
    "        camera = int(re.findall(r'sau:Chính (\\d+)', text)[0])\n",
    "        star = tree.find('div', {'class': 'lcrt'}).text\n",
    "        star = float(re.findall(r'([\\d+.]+)', star)[0])\n",
    "\n",
    "        fw.write(f'{price}\\t{screen}\\t{ram}\\t{rom}\\t{pin}\\t{camera}\\t{star}\\n')\n",
    "    except:\n",
    "        continue\n",
    "fw.close()"
   ]
  },
  {
   "cell_type": "code",
   "execution_count": 10,
   "metadata": {},
   "outputs": [
    {
     "data": {
      "text/html": [
       "<div>\n",
       "<style scoped>\n",
       "    .dataframe tbody tr th:only-of-type {\n",
       "        vertical-align: middle;\n",
       "    }\n",
       "\n",
       "    .dataframe tbody tr th {\n",
       "        vertical-align: top;\n",
       "    }\n",
       "\n",
       "    .dataframe thead th {\n",
       "        text-align: right;\n",
       "    }\n",
       "</style>\n",
       "<table border=\"1\" class=\"dataframe\">\n",
       "  <thead>\n",
       "    <tr style=\"text-align: right;\">\n",
       "      <th></th>\n",
       "      <th>price</th>\n",
       "      <th>screen</th>\n",
       "      <th>ram</th>\n",
       "      <th>rom</th>\n",
       "      <th>pin</th>\n",
       "      <th>camera</th>\n",
       "      <th>star</th>\n",
       "    </tr>\n",
       "  </thead>\n",
       "  <tbody>\n",
       "    <tr>\n",
       "      <th>0</th>\n",
       "      <td>4690000</td>\n",
       "      <td>6.50</td>\n",
       "      <td>4</td>\n",
       "      <td>128</td>\n",
       "      <td>5000</td>\n",
       "      <td>48</td>\n",
       "      <td>3.3</td>\n",
       "    </tr>\n",
       "    <tr>\n",
       "      <th>1</th>\n",
       "      <td>17990000</td>\n",
       "      <td>6.56</td>\n",
       "      <td>8</td>\n",
       "      <td>256</td>\n",
       "      <td>4315</td>\n",
       "      <td>48</td>\n",
       "      <td>4.3</td>\n",
       "    </tr>\n",
       "    <tr>\n",
       "      <th>2</th>\n",
       "      <td>14990000</td>\n",
       "      <td>6.50</td>\n",
       "      <td>8</td>\n",
       "      <td>128</td>\n",
       "      <td>4500</td>\n",
       "      <td>12</td>\n",
       "      <td>1.5</td>\n",
       "    </tr>\n",
       "    <tr>\n",
       "      <th>3</th>\n",
       "      <td>2590000</td>\n",
       "      <td>5.70</td>\n",
       "      <td>2</td>\n",
       "      <td>16</td>\n",
       "      <td>3000</td>\n",
       "      <td>13</td>\n",
       "      <td>2.8</td>\n",
       "    </tr>\n",
       "    <tr>\n",
       "      <th>4</th>\n",
       "      <td>8990000</td>\n",
       "      <td>6.40</td>\n",
       "      <td>8</td>\n",
       "      <td>128</td>\n",
       "      <td>4500</td>\n",
       "      <td>64</td>\n",
       "      <td>4.5</td>\n",
       "    </tr>\n",
       "    <tr>\n",
       "      <th>...</th>\n",
       "      <td>...</td>\n",
       "      <td>...</td>\n",
       "      <td>...</td>\n",
       "      <td>...</td>\n",
       "      <td>...</td>\n",
       "      <td>...</td>\n",
       "      <td>...</td>\n",
       "    </tr>\n",
       "    <tr>\n",
       "      <th>90</th>\n",
       "      <td>3690000</td>\n",
       "      <td>6.52</td>\n",
       "      <td>4</td>\n",
       "      <td>64</td>\n",
       "      <td>5000</td>\n",
       "      <td>12</td>\n",
       "      <td>3.3</td>\n",
       "    </tr>\n",
       "    <tr>\n",
       "      <th>91</th>\n",
       "      <td>6990000</td>\n",
       "      <td>6.40</td>\n",
       "      <td>8</td>\n",
       "      <td>128</td>\n",
       "      <td>4025</td>\n",
       "      <td>48</td>\n",
       "      <td>3.5</td>\n",
       "    </tr>\n",
       "    <tr>\n",
       "      <th>92</th>\n",
       "      <td>2990000</td>\n",
       "      <td>6.50</td>\n",
       "      <td>4</td>\n",
       "      <td>64</td>\n",
       "      <td>5000</td>\n",
       "      <td>13</td>\n",
       "      <td>3.4</td>\n",
       "    </tr>\n",
       "    <tr>\n",
       "      <th>93</th>\n",
       "      <td>3590000</td>\n",
       "      <td>6.30</td>\n",
       "      <td>3</td>\n",
       "      <td>32</td>\n",
       "      <td>4000</td>\n",
       "      <td>48</td>\n",
       "      <td>3.0</td>\n",
       "    </tr>\n",
       "    <tr>\n",
       "      <th>94</th>\n",
       "      <td>5990000</td>\n",
       "      <td>6.50</td>\n",
       "      <td>8</td>\n",
       "      <td>128</td>\n",
       "      <td>5000</td>\n",
       "      <td>64</td>\n",
       "      <td>3.4</td>\n",
       "    </tr>\n",
       "  </tbody>\n",
       "</table>\n",
       "<p>95 rows × 7 columns</p>\n",
       "</div>"
      ],
      "text/plain": [
       "       price  screen  ram  rom   pin  camera  star\n",
       "0    4690000    6.50    4  128  5000      48   3.3\n",
       "1   17990000    6.56    8  256  4315      48   4.3\n",
       "2   14990000    6.50    8  128  4500      12   1.5\n",
       "3    2590000    5.70    2   16  3000      13   2.8\n",
       "4    8990000    6.40    8  128  4500      64   4.5\n",
       "..       ...     ...  ...  ...   ...     ...   ...\n",
       "90   3690000    6.52    4   64  5000      12   3.3\n",
       "91   6990000    6.40    8  128  4025      48   3.5\n",
       "92   2990000    6.50    4   64  5000      13   3.4\n",
       "93   3590000    6.30    3   32  4000      48   3.0\n",
       "94   5990000    6.50    8  128  5000      64   3.4\n",
       "\n",
       "[95 rows x 7 columns]"
      ]
     },
     "execution_count": 10,
     "metadata": {},
     "output_type": "execute_result"
    }
   ],
   "source": [
    "df = pd.read_csv('dtdd_file.csv', sep='\\t')\n",
    "df"
   ]
  }
 ],
 "metadata": {
  "kernelspec": {
   "display_name": "Python 3",
   "language": "python",
   "name": "python3"
  },
  "language_info": {
   "codemirror_mode": {
    "name": "ipython",
    "version": 3
   },
   "file_extension": ".py",
   "mimetype": "text/x-python",
   "name": "python",
   "nbconvert_exporter": "python",
   "pygments_lexer": "ipython3",
   "version": "3.8.5"
  }
 },
 "nbformat": 4,
 "nbformat_minor": 4
}
