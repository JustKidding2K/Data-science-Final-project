{
 "cells": [
  {
   "cell_type": "markdown",
   "metadata": {},
   "source": [
    "<h1 align=\"center\">Data Science - Final Project</h1>\n",
    "<h1 align=\"center\">Air Pollution</h1>\n",
    "\n",
    "<h2 align=\"center\">Thành viên nhóm</h2>\n",
    "\n",
    "|MSSV|Họ và Tên\n",
    "|:---|:-\n",
    "|18120212|Huỳnh Long Nam\n",
    "|18120293|Vòng Cảnh Chi\n"
   ]
  },
  {
   "cell_type": "markdown",
   "metadata": {},
   "source": [
    "# Giới thiệu đề tài"
   ]
  },
  {
   "cell_type": "markdown",
   "metadata": {},
   "source": [
    "Theo UNICEF, thực trạng ô nhiễm môi trường hiện nay khá nóng và đang diễn ra ở khắp nơi trên thế giới, đặc biệt tại các nước đang phát triển, trong đó có Việt Nam. Bên cạnh ô nhiễm môi trường đất, nước do chất thải từ các công ty, xí nghiệp chưa qua xử lý đúng quy trình bị xả thẳng ra môi trường thì chất thải, khói bụi từ hoạt động của các nhà máy sản xuất, khí thải từ các phương tiện giao thông,... đã làm cho chất lượng không khí, đặc biệt tại các thành phố lớn, giảm sút và ô nhiễm đáng kể gây ra ô nhiễm không khí khá trầm trọng. Ô nhiễm không khí làm cho mọi người phải tiếp xúc với các hạt mịn trong không khí bị ô nhiễm. Các hạt mịn này thâm nhập sâu vào phổi và hệ thống tim mạch, gây ra các bệnh đột quỵ, bệnh tim, ung thư phổi, bệnh phổi tắc nghẽn mãn tính và các bệnh nhiễm trùng đường hô hấp, ảnh hưởng tới các nền kinh tế và chất lượng cuộc sống của con người. \n",
    "\n",
    "Ô nhiễm không khí đe dọa sức khỏe của người dân ở khắp mọi nơi trên thế giới. Ước tính mới đây năm 2018 cho thấy rằng 9/10 người dân phải hít thở không khí chứa hàm lượng các chất gây ô nhiễm cao. Ô nhiễm không khí cả ở bên ngoài và trong nhà gây ra khoảng 7 triệu ca tử vong hàng năm trên toàn cầu; chỉ tính riêng khu vực Tây Thái Bình Dương, khoảng 2,2 triệu người tử vong mỗi năm. Ở Việt Nam, khoảng 60.000 người chết mỗi năm có liên quan đến ô nhiễm không khí.\n"
   ]
  },
  {
   "cell_type": "markdown",
   "metadata": {},
   "source": [
    "Vì vậy nhóm quyết định thu thập dữ liệu về chất lượng không khí ở các thành phố lớn, cụ thể là thành phố Hồ Chí Minh, để có những cái nhìn về chất lượng không khí nơi đó cũng như tại các thành phố lớn trên thế giới.\n",
    "\n",
    "Dừ liệu được nhóm em thu thập từ https://openweathermap.org"
   ]
  },
  {
   "cell_type": "markdown",
   "metadata": {},
   "source": [
    "## Import các thư viện cần thiết"
   ]
  },
  {
   "cell_type": "code",
   "execution_count": 1,
   "metadata": {},
   "outputs": [],
   "source": [
    "%matplotlib inline\n",
    "import matplotlib.pyplot as plt\n",
    "import requests\n",
    "import json\n",
    "import pandas as pd\n",
    "import numpy as np\n",
    "import csv\n",
    "\n",
    "from sklearn.model_selection import train_test_split\n",
    "from sklearn.preprocessing import StandardScaler\n",
    "from sklearn.base import BaseEstimator, TransformerMixin\n",
    "from sklearn.pipeline import Pipeline, make_pipeline\n",
    "from sklearn.neural_network import MLPClassifier\n",
    "from sklearn.metrics import r2_score\n",
    "from sklearn.linear_model import LinearRegression"
   ]
  },
  {
   "cell_type": "markdown",
   "metadata": {},
   "source": [
    "# Bắt đầu quá trình thu thập dữ liệu"
   ]
  },
  {
   "cell_type": "markdown",
   "metadata": {},
   "source": [
    "Chúng em sẽ thu thập dữ liệu thông qua api do trang https://openweathermap.org đã cung cấp sẵn và lưu và biến data.\n",
    "Api: http://api.openweathermap.org/data/2.5/air_pollution/history?lat=10.7546664&lon=106.415029&start=946726894&end=1610129052&appid=9f7c977884b479967cee75682a860b6b"
   ]
  },
  {
   "cell_type": "code",
   "execution_count": 2,
   "metadata": {},
   "outputs": [],
   "source": [
    "#REST API\n",
    "'''\n",
    "    Sử dụng api từ openweathermap.org\n",
    "    Lấy dữ liệu chất lượng không khí tại TP HCM từ 2000 - 2021 \n",
    "    Nhận được 1032 bộ dữ liệu ~ 3 năm\n",
    "\n",
    "'''\n",
    "data=requests.get('http://api.openweathermap.org/data/2.5/air_pollution/history?lat=10.7546664&lon=106.415029&start=946726894&end=1610129052&appid=9f7c977884b479967cee75682a860b6b')"
   ]
  },
  {
   "cell_type": "code",
   "execution_count": 3,
   "metadata": {},
   "outputs": [],
   "source": [
    "#Parse JSON\n",
    "air_quality=json.loads(data.text)"
   ]
  },
  {
   "cell_type": "code",
   "execution_count": 4,
   "metadata": {},
   "outputs": [
    {
     "data": {
      "text/plain": [
       "{'main': {'aqi': 2},\n",
       " 'components': {'co': 560.76,\n",
       "  'no': 0.27,\n",
       "  'no2': 12.34,\n",
       "  'o3': 13.23,\n",
       "  'so2': 2.5,\n",
       "  'pm2_5': 15.88,\n",
       "  'pm10': 20.87,\n",
       "  'nh3': 13.55},\n",
       " 'dt': 1610064000}"
      ]
     },
     "execution_count": 4,
     "metadata": {},
     "output_type": "execute_result"
    }
   ],
   "source": [
    "#Test\n",
    "air_quality['list'][0]"
   ]
  },
  {
   "cell_type": "code",
   "execution_count": 5,
   "metadata": {},
   "outputs": [],
   "source": [
    "#Simplize dicts\n",
    "def make_flat_dict(p):\n",
    "    res={};\n",
    "    components=p['components']\n",
    "    \n",
    "    res['dt']=p['dt']\n",
    "    res['co']=components['co']\n",
    "    res['no']=components['no']\n",
    "    res['no2']=components['no2']\n",
    "    res['o3']=components['o3']\n",
    "    res['so2']=components['so2']\n",
    "    res['pm2_5']=components['pm2_5']\n",
    "    res['pm10']=components['pm10']\n",
    "    res['nh3']=components['nh3']\n",
    "    res['aqi']=p['main']['aqi']\n",
    "    \n",
    "    return res\n",
    "    pass"
   ]
  },
  {
   "cell_type": "code",
   "execution_count": 6,
   "metadata": {},
   "outputs": [],
   "source": [
    "# Make list records\n",
    "list_records=[]\n",
    "for record in air_quality['list']:\n",
    "    list_records.append(make_flat_dict(record))\n",
    "    "
   ]
  },
  {
   "cell_type": "markdown",
   "metadata": {},
   "source": [
    "Kích thước dữ liệu thu được"
   ]
  },
  {
   "cell_type": "code",
   "execution_count": 7,
   "metadata": {},
   "outputs": [
    {
     "data": {
      "text/plain": [
       "1056"
      ]
     },
     "execution_count": 7,
     "metadata": {},
     "output_type": "execute_result"
    }
   ],
   "source": [
    "len(list_records)"
   ]
  },
  {
   "cell_type": "code",
   "execution_count": 8,
   "metadata": {},
   "outputs": [],
   "source": [
    "#Write to csv\n",
    "with open('air_quality.csv', 'w',newline='') as csvfile:\n",
    "        writer = csv.DictWriter(csvfile, fieldnames=list_records[0].keys())\n",
    "        writer.writeheader()\n",
    "        for data in list_records:\n",
    "            writer.writerow(data)"
   ]
  },
  {
   "cell_type": "markdown",
   "metadata": {},
   "source": [
    "---"
   ]
  },
  {
   "cell_type": "markdown",
   "metadata": {},
   "source": [
    "# Khám phá dữ liệu (đủ để có thể xác định câu hỏi)"
   ]
  },
  {
   "cell_type": "code",
   "execution_count": 9,
   "metadata": {},
   "outputs": [],
   "source": [
    "# Đọc dữ liệu từ file đã thu thập trước đó\n",
    "data_df = pd.read_csv('air_quality.csv')"
   ]
  },
  {
   "cell_type": "markdown",
   "metadata": {},
   "source": [
    "**Tổng quan về dữ liệu thu được**"
   ]
  },
  {
   "cell_type": "code",
   "execution_count": 10,
   "metadata": {},
   "outputs": [
    {
     "data": {
      "text/html": [
       "<div>\n",
       "<style scoped>\n",
       "    .dataframe tbody tr th:only-of-type {\n",
       "        vertical-align: middle;\n",
       "    }\n",
       "\n",
       "    .dataframe tbody tr th {\n",
       "        vertical-align: top;\n",
       "    }\n",
       "\n",
       "    .dataframe thead th {\n",
       "        text-align: right;\n",
       "    }\n",
       "</style>\n",
       "<table border=\"1\" class=\"dataframe\">\n",
       "  <thead>\n",
       "    <tr style=\"text-align: right;\">\n",
       "      <th></th>\n",
       "      <th>dt</th>\n",
       "      <th>co</th>\n",
       "      <th>no</th>\n",
       "      <th>no2</th>\n",
       "      <th>o3</th>\n",
       "      <th>so2</th>\n",
       "      <th>pm2_5</th>\n",
       "      <th>pm10</th>\n",
       "      <th>nh3</th>\n",
       "      <th>aqi</th>\n",
       "    </tr>\n",
       "  </thead>\n",
       "  <tbody>\n",
       "    <tr>\n",
       "      <th>0</th>\n",
       "      <td>1610064000</td>\n",
       "      <td>560.76</td>\n",
       "      <td>0.27</td>\n",
       "      <td>12.34</td>\n",
       "      <td>13.23</td>\n",
       "      <td>2.50</td>\n",
       "      <td>15.88</td>\n",
       "      <td>20.87</td>\n",
       "      <td>13.55</td>\n",
       "      <td>2</td>\n",
       "    </tr>\n",
       "    <tr>\n",
       "      <th>1</th>\n",
       "      <td>1610060400</td>\n",
       "      <td>720.98</td>\n",
       "      <td>0.18</td>\n",
       "      <td>16.97</td>\n",
       "      <td>9.48</td>\n",
       "      <td>2.33</td>\n",
       "      <td>24.32</td>\n",
       "      <td>31.66</td>\n",
       "      <td>13.30</td>\n",
       "      <td>3</td>\n",
       "    </tr>\n",
       "    <tr>\n",
       "      <th>2</th>\n",
       "      <td>1610056800</td>\n",
       "      <td>1068.12</td>\n",
       "      <td>0.48</td>\n",
       "      <td>24.33</td>\n",
       "      <td>5.10</td>\n",
       "      <td>2.71</td>\n",
       "      <td>42.46</td>\n",
       "      <td>55.44</td>\n",
       "      <td>13.05</td>\n",
       "      <td>4</td>\n",
       "    </tr>\n",
       "    <tr>\n",
       "      <th>3</th>\n",
       "      <td>1610053200</td>\n",
       "      <td>1321.79</td>\n",
       "      <td>0.86</td>\n",
       "      <td>28.10</td>\n",
       "      <td>2.06</td>\n",
       "      <td>3.46</td>\n",
       "      <td>58.54</td>\n",
       "      <td>77.71</td>\n",
       "      <td>13.30</td>\n",
       "      <td>5</td>\n",
       "    </tr>\n",
       "    <tr>\n",
       "      <th>4</th>\n",
       "      <td>1610049600</td>\n",
       "      <td>1255.04</td>\n",
       "      <td>0.57</td>\n",
       "      <td>25.71</td>\n",
       "      <td>3.80</td>\n",
       "      <td>3.55</td>\n",
       "      <td>56.81</td>\n",
       "      <td>78.01</td>\n",
       "      <td>12.92</td>\n",
       "      <td>5</td>\n",
       "    </tr>\n",
       "    <tr>\n",
       "      <th>5</th>\n",
       "      <td>1610046000</td>\n",
       "      <td>1148.22</td>\n",
       "      <td>0.36</td>\n",
       "      <td>23.99</td>\n",
       "      <td>6.17</td>\n",
       "      <td>3.61</td>\n",
       "      <td>51.32</td>\n",
       "      <td>72.30</td>\n",
       "      <td>13.17</td>\n",
       "      <td>5</td>\n",
       "    </tr>\n",
       "    <tr>\n",
       "      <th>6</th>\n",
       "      <td>1610042400</td>\n",
       "      <td>1174.93</td>\n",
       "      <td>0.55</td>\n",
       "      <td>25.71</td>\n",
       "      <td>5.54</td>\n",
       "      <td>3.93</td>\n",
       "      <td>51.19</td>\n",
       "      <td>71.86</td>\n",
       "      <td>15.71</td>\n",
       "      <td>5</td>\n",
       "    </tr>\n",
       "    <tr>\n",
       "      <th>7</th>\n",
       "      <td>1610038800</td>\n",
       "      <td>1121.52</td>\n",
       "      <td>1.19</td>\n",
       "      <td>27.08</td>\n",
       "      <td>4.25</td>\n",
       "      <td>4.59</td>\n",
       "      <td>47.50</td>\n",
       "      <td>68.12</td>\n",
       "      <td>17.48</td>\n",
       "      <td>4</td>\n",
       "    </tr>\n",
       "    <tr>\n",
       "      <th>8</th>\n",
       "      <td>1610035200</td>\n",
       "      <td>1121.52</td>\n",
       "      <td>0.88</td>\n",
       "      <td>28.45</td>\n",
       "      <td>5.54</td>\n",
       "      <td>5.42</td>\n",
       "      <td>46.37</td>\n",
       "      <td>67.81</td>\n",
       "      <td>19.76</td>\n",
       "      <td>4</td>\n",
       "    </tr>\n",
       "    <tr>\n",
       "      <th>9</th>\n",
       "      <td>1610031600</td>\n",
       "      <td>1054.76</td>\n",
       "      <td>0.41</td>\n",
       "      <td>28.45</td>\n",
       "      <td>8.76</td>\n",
       "      <td>5.84</td>\n",
       "      <td>42.41</td>\n",
       "      <td>63.20</td>\n",
       "      <td>18.49</td>\n",
       "      <td>4</td>\n",
       "    </tr>\n",
       "  </tbody>\n",
       "</table>\n",
       "</div>"
      ],
      "text/plain": [
       "           dt       co    no    no2     o3   so2  pm2_5   pm10    nh3  aqi\n",
       "0  1610064000   560.76  0.27  12.34  13.23  2.50  15.88  20.87  13.55    2\n",
       "1  1610060400   720.98  0.18  16.97   9.48  2.33  24.32  31.66  13.30    3\n",
       "2  1610056800  1068.12  0.48  24.33   5.10  2.71  42.46  55.44  13.05    4\n",
       "3  1610053200  1321.79  0.86  28.10   2.06  3.46  58.54  77.71  13.30    5\n",
       "4  1610049600  1255.04  0.57  25.71   3.80  3.55  56.81  78.01  12.92    5\n",
       "5  1610046000  1148.22  0.36  23.99   6.17  3.61  51.32  72.30  13.17    5\n",
       "6  1610042400  1174.93  0.55  25.71   5.54  3.93  51.19  71.86  15.71    5\n",
       "7  1610038800  1121.52  1.19  27.08   4.25  4.59  47.50  68.12  17.48    4\n",
       "8  1610035200  1121.52  0.88  28.45   5.54  5.42  46.37  67.81  19.76    4\n",
       "9  1610031600  1054.76  0.41  28.45   8.76  5.84  42.41  63.20  18.49    4"
      ]
     },
     "execution_count": 10,
     "metadata": {},
     "output_type": "execute_result"
    }
   ],
   "source": [
    "data_df.head(10)"
   ]
  },
  {
   "cell_type": "markdown",
   "metadata": {},
   "source": [
    "### Dữ liệu có bao nhiêu dòng và bao nhiêu cột?"
   ]
  },
  {
   "cell_type": "code",
   "execution_count": 11,
   "metadata": {},
   "outputs": [
    {
     "data": {
      "text/plain": [
       "(1056, 10)"
      ]
     },
     "execution_count": 11,
     "metadata": {},
     "output_type": "execute_result"
    }
   ],
   "source": [
    "data_df.shape"
   ]
  },
  {
   "cell_type": "markdown",
   "metadata": {},
   "source": [
    "## Tổng quan về dữ liệu"
   ]
  },
  {
   "cell_type": "markdown",
   "metadata": {},
   "source": [
    "Quan sát sơ bộ dữ liệu ta thấy mỗi dòng chứa số liệu của các loại chất khác nhau."
   ]
  },
  {
   "cell_type": "markdown",
   "metadata": {},
   "source": [
    "------Thêm mô tả về dữ liệu----------"
   ]
  },
  {
   "cell_type": "markdown",
   "metadata": {},
   "source": [
    "Đến đây, ta thấy dữ liệu đã ổn và sẵn sàng cho việc đưa ra câu hỏi về bộ dữ liệu."
   ]
  },
  {
   "cell_type": "markdown",
   "metadata": {},
   "source": [
    "---"
   ]
  },
  {
   "cell_type": "markdown",
   "metadata": {},
   "source": [
    "# Đưa ra câu hỏi cần trả lời"
   ]
  },
  {
   "cell_type": "markdown",
   "metadata": {},
   "source": [
    "Chất lượng không khí được tính thế nào từ các thông số không khí đo được từ môi trường.\n",
    "\n",
    "Nguồn cảm hứng của câu hỏi: Từ 1 bản tin thời sự trên VTV nói về việc ô nhiễm môi trường đang là một vấn nhức nhối trên toàn cầu."
   ]
  },
  {
   "cell_type": "markdown",
   "metadata": {},
   "source": [
    "## Ý nghĩ của việc trả lời được câu hỏi nêu trên:\n",
    "\n",
    "Nếu biết được chất lượng không khí sẽ có rất nhiều lợi ích.\n",
    "    - Nếu không khí có chất lượng tốt thì mọi người cần biết giữ gìn và bảo vệ bầu không khí trong lành đó.\n",
    "    - Nếu chất lượng không khí không tốt, thậm chí là độc hại thì người dân cần có các biện pháp bảo vệ bản thân như đeo khẩu trang, hạn chế ra khỏi nhà,... Các nhà chức trách cũng sẽ có được các thông tin cần thiết để đưa ra các biện pháp ứng phó kịp thời với việc ô nhiễm không khí đang diễn ra tùy theo mức độ khẩn cấp.\n",
    "Dù sao cũng hãy bảo vệ bầu không khí trong lành, đừng làm ô nhiễm nó."
   ]
  },
  {
   "cell_type": "markdown",
   "metadata": {},
   "source": [
    "# Khám phá dữ liệu (để biết cách tách các tập)"
   ]
  },
  {
   "cell_type": "code",
   "execution_count": 12,
   "metadata": {},
   "outputs": [
    {
     "data": {
      "text/plain": [
       "dtype('int64')"
      ]
     },
     "execution_count": 12,
     "metadata": {},
     "output_type": "execute_result"
    }
   ],
   "source": [
    "# Cột output hiện có kiểu dữ liệu gì?\n",
    "data_df['aqi'].dtype"
   ]
  },
  {
   "cell_type": "code",
   "execution_count": 13,
   "metadata": {},
   "outputs": [
    {
     "data": {
      "text/plain": [
       "0"
      ]
     },
     "execution_count": 13,
     "metadata": {},
     "output_type": "execute_result"
    }
   ],
   "source": [
    "# Cột output có giá trị thiếu không?\n",
    "data_df['aqi'].isna().sum()"
   ]
  },
  {
   "cell_type": "code",
   "execution_count": 14,
   "metadata": {},
   "outputs": [
    {
     "data": {
      "text/plain": [
       "5    30.681818\n",
       "4    27.746212\n",
       "2    24.715909\n",
       "1     9.564394\n",
       "3     7.291667\n",
       "Name: aqi, dtype: float64"
      ]
     },
     "execution_count": 14,
     "metadata": {},
     "output_type": "execute_result"
    }
   ],
   "source": [
    "# Tỉ lệ các lớp trong cột output?\n",
    "data_df['aqi'].value_counts(normalize=True) * 100"
   ]
  },
  {
   "cell_type": "markdown",
   "metadata": {},
   "source": [
    "Như vậy cột output đã ở dạng số và không bị thiếu dữ liệu. Tỉ lệ các lớp cũng không có vấn đề gì."
   ]
  },
  {
   "cell_type": "markdown",
   "metadata": {},
   "source": [
    "## Tiền xử lý (tách các tập)"
   ]
  },
  {
   "cell_type": "markdown",
   "metadata": {},
   "source": [
    "Bây giờ ta sẽ thực hiện bước tiền xử lý là tách tập validation và tập kiểm tra ra.\n",
    "\n",
    "Ở đây, cột output của dữ liệu chính là cột 'aqi' (chất lượng không khí)."
   ]
  },
  {
   "cell_type": "code",
   "execution_count": 15,
   "metadata": {},
   "outputs": [],
   "source": [
    "# Tách X và y\n",
    "y_sr = data_df[\"aqi\"] # sr là viết tắt của series\n",
    "X_df = data_df.drop(\"aqi\", axis=1)"
   ]
  },
  {
   "cell_type": "markdown",
   "metadata": {},
   "source": [
    "Tách dữ liệu theo tỉ lệ: 80% cho tập train, 10% cho tập validation, 10% cho tập test."
   ]
  },
  {
   "cell_type": "code",
   "execution_count": 16,
   "metadata": {},
   "outputs": [],
   "source": [
    "# Tách tập (train, validation) và tập test\n",
    "new_X_df, test_X_df, new_y_sr, test_y_sr = train_test_split(X_df, y_sr, test_size = 0.1, \n",
    "                                                             stratify=y_sr, random_state=10)"
   ]
  },
  {
   "cell_type": "code",
   "execution_count": 17,
   "metadata": {},
   "outputs": [],
   "source": [
    "# Tách tập train và tập validation\n",
    "train_X_df, val_X_df, train_y_sr, val_y_sr = train_test_split(new_X_df, new_y_sr, test_size=(1/9), \n",
    "                                                              stratify=new_y_sr, random_state=10)"
   ]
  },
  {
   "cell_type": "code",
   "execution_count": 18,
   "metadata": {},
   "outputs": [
    {
     "data": {
      "text/plain": [
       "(844, 9)"
      ]
     },
     "execution_count": 18,
     "metadata": {},
     "output_type": "execute_result"
    }
   ],
   "source": [
    "train_X_df.shape"
   ]
  },
  {
   "cell_type": "code",
   "execution_count": 19,
   "metadata": {},
   "outputs": [
    {
     "data": {
      "text/plain": [
       "(844,)"
      ]
     },
     "execution_count": 19,
     "metadata": {},
     "output_type": "execute_result"
    }
   ],
   "source": [
    "train_y_sr.shape"
   ]
  },
  {
   "cell_type": "code",
   "execution_count": 20,
   "metadata": {},
   "outputs": [
    {
     "data": {
      "text/plain": [
       "(106, 9)"
      ]
     },
     "execution_count": 20,
     "metadata": {},
     "output_type": "execute_result"
    }
   ],
   "source": [
    "val_X_df.shape"
   ]
  },
  {
   "cell_type": "code",
   "execution_count": 21,
   "metadata": {},
   "outputs": [
    {
     "data": {
      "text/plain": [
       "(106,)"
      ]
     },
     "execution_count": 21,
     "metadata": {},
     "output_type": "execute_result"
    }
   ],
   "source": [
    "val_y_sr.shape"
   ]
  },
  {
   "cell_type": "code",
   "execution_count": 22,
   "metadata": {},
   "outputs": [
    {
     "data": {
      "text/plain": [
       "(106, 9)"
      ]
     },
     "execution_count": 22,
     "metadata": {},
     "output_type": "execute_result"
    }
   ],
   "source": [
    "test_X_df.shape"
   ]
  },
  {
   "cell_type": "code",
   "execution_count": 23,
   "metadata": {},
   "outputs": [
    {
     "data": {
      "text/plain": [
       "(106,)"
      ]
     },
     "execution_count": 23,
     "metadata": {},
     "output_type": "execute_result"
    }
   ],
   "source": [
    "test_y_sr.shape"
   ]
  },
  {
   "cell_type": "markdown",
   "metadata": {},
   "source": [
    "# Khám phá dữ liệu (tập huấn luyện)"
   ]
  },
  {
   "cell_type": "markdown",
   "metadata": {},
   "source": [
    "### Dữ liệu thu được đang ở dạng gì?"
   ]
  },
  {
   "cell_type": "code",
   "execution_count": 24,
   "metadata": {},
   "outputs": [
    {
     "data": {
      "text/plain": [
       "dt         int64\n",
       "co       float64\n",
       "no       float64\n",
       "no2      float64\n",
       "o3       float64\n",
       "so2      float64\n",
       "pm2_5    float64\n",
       "pm10     float64\n",
       "nh3      float64\n",
       "dtype: object"
      ]
     },
     "execution_count": 24,
     "metadata": {},
     "output_type": "execute_result"
    }
   ],
   "source": [
    "train_X_df.dtypes"
   ]
  },
  {
   "cell_type": "markdown",
   "metadata": {},
   "source": [
    "Như vậy, dữ liệu thu thập đều ở dạng mong muốn mà không phải xử lý gì thêm. Ở đây, tất cả các cột đều ở dạng số."
   ]
  },
  {
   "cell_type": "markdown",
   "metadata": {},
   "source": [
    "### Dữ liệu được phân bố ra sao?"
   ]
  },
  {
   "cell_type": "code",
   "execution_count": 25,
   "metadata": {},
   "outputs": [
    {
     "data": {
      "text/html": [
       "<div>\n",
       "<style scoped>\n",
       "    .dataframe tbody tr th:only-of-type {\n",
       "        vertical-align: middle;\n",
       "    }\n",
       "\n",
       "    .dataframe tbody tr th {\n",
       "        vertical-align: top;\n",
       "    }\n",
       "\n",
       "    .dataframe thead th {\n",
       "        text-align: right;\n",
       "    }\n",
       "</style>\n",
       "<table border=\"1\" class=\"dataframe\">\n",
       "  <thead>\n",
       "    <tr style=\"text-align: right;\">\n",
       "      <th></th>\n",
       "      <th>dt</th>\n",
       "      <th>co</th>\n",
       "      <th>no</th>\n",
       "      <th>no2</th>\n",
       "      <th>o3</th>\n",
       "      <th>so2</th>\n",
       "      <th>pm2_5</th>\n",
       "      <th>pm10</th>\n",
       "      <th>nh3</th>\n",
       "    </tr>\n",
       "  </thead>\n",
       "  <tbody>\n",
       "    <tr>\n",
       "      <th>missing_ratio</th>\n",
       "      <td>0.000000e+00</td>\n",
       "      <td>0.00</td>\n",
       "      <td>0.00</td>\n",
       "      <td>0.00</td>\n",
       "      <td>0.00</td>\n",
       "      <td>0.00</td>\n",
       "      <td>0.00</td>\n",
       "      <td>0.00</td>\n",
       "      <td>0.00</td>\n",
       "    </tr>\n",
       "    <tr>\n",
       "      <th>min</th>\n",
       "      <td>1.606266e+09</td>\n",
       "      <td>283.72</td>\n",
       "      <td>0.00</td>\n",
       "      <td>1.21</td>\n",
       "      <td>0.00</td>\n",
       "      <td>0.95</td>\n",
       "      <td>4.55</td>\n",
       "      <td>5.45</td>\n",
       "      <td>1.84</td>\n",
       "    </tr>\n",
       "    <tr>\n",
       "      <th>lower_quartile</th>\n",
       "      <td>1.607198e+09</td>\n",
       "      <td>474.00</td>\n",
       "      <td>0.00</td>\n",
       "      <td>6.80</td>\n",
       "      <td>11.20</td>\n",
       "      <td>2.50</td>\n",
       "      <td>14.80</td>\n",
       "      <td>18.30</td>\n",
       "      <td>4.80</td>\n",
       "    </tr>\n",
       "    <tr>\n",
       "      <th>median</th>\n",
       "      <td>1.608169e+09</td>\n",
       "      <td>674.20</td>\n",
       "      <td>0.20</td>\n",
       "      <td>14.70</td>\n",
       "      <td>39.70</td>\n",
       "      <td>4.50</td>\n",
       "      <td>30.30</td>\n",
       "      <td>36.90</td>\n",
       "      <td>7.60</td>\n",
       "    </tr>\n",
       "    <tr>\n",
       "      <th>upper_quartile</th>\n",
       "      <td>1.609108e+09</td>\n",
       "      <td>1228.30</td>\n",
       "      <td>1.30</td>\n",
       "      <td>28.90</td>\n",
       "      <td>65.10</td>\n",
       "      <td>12.60</td>\n",
       "      <td>59.10</td>\n",
       "      <td>70.60</td>\n",
       "      <td>11.50</td>\n",
       "    </tr>\n",
       "    <tr>\n",
       "      <th>max</th>\n",
       "      <td>1.610064e+09</td>\n",
       "      <td>4592.90</td>\n",
       "      <td>89.41</td>\n",
       "      <td>131.61</td>\n",
       "      <td>197.41</td>\n",
       "      <td>82.02</td>\n",
       "      <td>240.65</td>\n",
       "      <td>275.21</td>\n",
       "      <td>94.24</td>\n",
       "    </tr>\n",
       "  </tbody>\n",
       "</table>\n",
       "</div>"
      ],
      "text/plain": [
       "                          dt       co     no     no2      o3    so2   pm2_5  \\\n",
       "missing_ratio   0.000000e+00     0.00   0.00    0.00    0.00   0.00    0.00   \n",
       "min             1.606266e+09   283.72   0.00    1.21    0.00   0.95    4.55   \n",
       "lower_quartile  1.607198e+09   474.00   0.00    6.80   11.20   2.50   14.80   \n",
       "median          1.608169e+09   674.20   0.20   14.70   39.70   4.50   30.30   \n",
       "upper_quartile  1.609108e+09  1228.30   1.30   28.90   65.10  12.60   59.10   \n",
       "max             1.610064e+09  4592.90  89.41  131.61  197.41  82.02  240.65   \n",
       "\n",
       "                  pm10    nh3  \n",
       "missing_ratio     0.00   0.00  \n",
       "min               5.45   1.84  \n",
       "lower_quartile   18.30   4.80  \n",
       "median           36.90   7.60  \n",
       "upper_quartile   70.60  11.50  \n",
       "max             275.21  94.24  "
      ]
     },
     "execution_count": 25,
     "metadata": {},
     "output_type": "execute_result"
    }
   ],
   "source": [
    "def missing_ratio(df):\n",
    "    return (df.isna().mean() * 100).round(1)\n",
    "def lower_quartile(df):\n",
    "    return df.quantile(0.25).round(1)\n",
    "def median(df):\n",
    "    return df.quantile(0.5).round(1)\n",
    "def upper_quartile(df):\n",
    "    return df.quantile(0.75).round(1)\n",
    "train_X_df.agg([missing_ratio, 'min', lower_quartile, median, upper_quartile, 'max'])"
   ]
  },
  {
   "cell_type": "markdown",
   "metadata": {},
   "source": [
    "Như vậy là dữ liệu không có giá trị thiếu. Có thể thấy nguồn dữ liệu là rất tin cậy và đầy đủ"
   ]
  },
  {
   "cell_type": "markdown",
   "metadata": {},
   "source": [
    "## Tiền xử lý tập huấn luyện"
   ]
  },
  {
   "cell_type": "markdown",
   "metadata": {},
   "source": [
    "Với tập dữ liệu thu được, ta nhận thấy cột `dt` (Date and Time) ghi nhận số giây từ 1/1/1970 đến thời điểm thu thập dữ liệu là không cần thiết với việc đánh giá chất lượng không khí nên ta sẽ thực hiện xóa cột này đi. Việc này sẽ thực hiện trong hàm `ColDropper`."
   ]
  },
  {
   "cell_type": "code",
   "execution_count": 26,
   "metadata": {},
   "outputs": [],
   "source": [
    "class ColDropper(BaseEstimator, TransformerMixin):\n",
    "    def __init__(self):\n",
    "        pass\n",
    "    def fit(self, X_df, y=None):\n",
    "        return self\n",
    "    def transform(self, X_df, y=None):\n",
    "        df = X_df.drop('dt', axis=1)\n",
    "        return df"
   ]
  },
  {
   "cell_type": "code",
   "execution_count": 27,
   "metadata": {},
   "outputs": [
    {
     "data": {
      "text/plain": [
       "ColDropper()"
      ]
     },
     "execution_count": 27,
     "metadata": {},
     "output_type": "execute_result"
    }
   ],
   "source": [
    "col_dropper = ColDropper()\n",
    "col_dropper.fit(train_X_df)"
   ]
  },
  {
   "cell_type": "code",
   "execution_count": 28,
   "metadata": {},
   "outputs": [
    {
     "data": {
      "text/html": [
       "<div>\n",
       "<style scoped>\n",
       "    .dataframe tbody tr th:only-of-type {\n",
       "        vertical-align: middle;\n",
       "    }\n",
       "\n",
       "    .dataframe tbody tr th {\n",
       "        vertical-align: top;\n",
       "    }\n",
       "\n",
       "    .dataframe thead th {\n",
       "        text-align: right;\n",
       "    }\n",
       "</style>\n",
       "<table border=\"1\" class=\"dataframe\">\n",
       "  <thead>\n",
       "    <tr style=\"text-align: right;\">\n",
       "      <th></th>\n",
       "      <th>co</th>\n",
       "      <th>no</th>\n",
       "      <th>no2</th>\n",
       "      <th>o3</th>\n",
       "      <th>so2</th>\n",
       "      <th>pm2_5</th>\n",
       "      <th>pm10</th>\n",
       "      <th>nh3</th>\n",
       "    </tr>\n",
       "  </thead>\n",
       "  <tbody>\n",
       "    <tr>\n",
       "      <th>391</th>\n",
       "      <td>433.92</td>\n",
       "      <td>0.00</td>\n",
       "      <td>5.31</td>\n",
       "      <td>51.50</td>\n",
       "      <td>2.74</td>\n",
       "      <td>11.15</td>\n",
       "      <td>12.73</td>\n",
       "      <td>5.19</td>\n",
       "    </tr>\n",
       "    <tr>\n",
       "      <th>12</th>\n",
       "      <td>600.82</td>\n",
       "      <td>0.00</td>\n",
       "      <td>19.19</td>\n",
       "      <td>75.10</td>\n",
       "      <td>11.56</td>\n",
       "      <td>28.48</td>\n",
       "      <td>41.82</td>\n",
       "      <td>11.27</td>\n",
       "    </tr>\n",
       "    <tr>\n",
       "      <th>164</th>\n",
       "      <td>410.56</td>\n",
       "      <td>0.52</td>\n",
       "      <td>3.94</td>\n",
       "      <td>81.54</td>\n",
       "      <td>2.98</td>\n",
       "      <td>10.86</td>\n",
       "      <td>13.86</td>\n",
       "      <td>3.58</td>\n",
       "    </tr>\n",
       "    <tr>\n",
       "      <th>1016</th>\n",
       "      <td>2349.85</td>\n",
       "      <td>3.97</td>\n",
       "      <td>65.12</td>\n",
       "      <td>0.34</td>\n",
       "      <td>8.35</td>\n",
       "      <td>127.53</td>\n",
       "      <td>152.68</td>\n",
       "      <td>15.83</td>\n",
       "    </tr>\n",
       "    <tr>\n",
       "      <th>444</th>\n",
       "      <td>403.88</td>\n",
       "      <td>0.00</td>\n",
       "      <td>4.71</td>\n",
       "      <td>66.52</td>\n",
       "      <td>2.18</td>\n",
       "      <td>7.54</td>\n",
       "      <td>8.81</td>\n",
       "      <td>3.20</td>\n",
       "    </tr>\n",
       "  </tbody>\n",
       "</table>\n",
       "</div>"
      ],
      "text/plain": [
       "           co    no    no2     o3    so2   pm2_5    pm10    nh3\n",
       "391    433.92  0.00   5.31  51.50   2.74   11.15   12.73   5.19\n",
       "12     600.82  0.00  19.19  75.10  11.56   28.48   41.82  11.27\n",
       "164    410.56  0.52   3.94  81.54   2.98   10.86   13.86   3.58\n",
       "1016  2349.85  3.97  65.12   0.34   8.35  127.53  152.68  15.83\n",
       "444    403.88  0.00   4.71  66.52   2.18    7.54    8.81   3.20"
      ]
     },
     "execution_count": 28,
     "metadata": {},
     "output_type": "execute_result"
    }
   ],
   "source": [
    "fewer_cols_train_X_df = col_dropper.transform(train_X_df)\n",
    "fewer_cols_train_X_df.head(5)"
   ]
  },
  {
   "cell_type": "markdown",
   "metadata": {},
   "source": [
    "## Tạo pipeline"
   ]
  },
  {
   "cell_type": "code",
   "execution_count": 29,
   "metadata": {},
   "outputs": [],
   "source": [
    "preprocess_pipeline = make_pipeline(col_dropper, StandardScaler())"
   ]
  },
  {
   "cell_type": "markdown",
   "metadata": {},
   "source": [
    "# Tiền xử lý + mô hình hóa"
   ]
  },
  {
   "cell_type": "markdown",
   "metadata": {},
   "source": [
    "## Thử nghiệm với mô hình MLP"
   ]
  },
  {
   "cell_type": "markdown",
   "metadata": {},
   "source": [
    "Tạo pipeline với các với các siêu tham số `hidden_layer_sizes=(20), activation='tanh', solver='lbfgs', random_state=0, max_iter=2500)`."
   ]
  },
  {
   "cell_type": "code",
   "execution_count": 30,
   "metadata": {},
   "outputs": [],
   "source": [
    "full_pipeline = make_pipeline(preprocess_pipeline,\n",
    "                              MLPClassifier(hidden_layer_sizes=(20), activation='tanh', solver='lbfgs', random_state=0, max_iter=2500))"
   ]
  },
  {
   "cell_type": "code",
   "execution_count": 31,
   "metadata": {},
   "outputs": [
    {
     "data": {
      "text/plain": [
       "'Finish!'"
      ]
     },
     "execution_count": 31,
     "metadata": {},
     "output_type": "execute_result"
    }
   ],
   "source": [
    "# Thử nghiệm với các giá trị khác nhau của các siêu tham số\n",
    "# và chọn ra các giá trị tốt nhất\n",
    "train_errs = []\n",
    "val_errs = []\n",
    "alphas = [0.01, 0.05, 0.1, 1, 10, 100, 1000]\n",
    "best_val_err = float('inf'); best_alpha = None\n",
    "for alpha in alphas:\n",
    "    full_pipeline.set_params(mlpclassifier__alpha=alpha)\n",
    "    full_pipeline.fit(train_X_df, train_y_sr)\n",
    "    train_errs.append((1 - full_pipeline.score(train_X_df, train_y_sr))*100)\n",
    "    val_errs.append((1 - full_pipeline.score(val_X_df, val_y_sr))*100)\n",
    "    if val_errs[-1] <= best_val_err:\n",
    "        best_val_err = val_errs[-1]\n",
    "        best_alpha = alpha\n",
    "'Finish!'"
   ]
  },
  {
   "cell_type": "code",
   "execution_count": 32,
   "metadata": {},
   "outputs": [
    {
     "name": "stdout",
     "output_type": "stream",
     "text": [
      "2.8301886792452824\n",
      "1\n"
     ]
    }
   ],
   "source": [
    "print(best_val_err)\n",
    "print(best_alpha)"
   ]
  },
  {
   "cell_type": "code",
   "execution_count": 33,
   "metadata": {},
   "outputs": [
    {
     "data": {
      "text/plain": [
       "Pipeline(steps=[('pipeline',\n",
       "                 Pipeline(steps=[('coldropper', ColDropper()),\n",
       "                                 ('standardscaler', StandardScaler())])),\n",
       "                ('mlpclassifier',\n",
       "                 MLPClassifier(activation='tanh', alpha=1,\n",
       "                               hidden_layer_sizes=20, max_iter=2500,\n",
       "                               random_state=0, solver='lbfgs'))])"
      ]
     },
     "execution_count": 33,
     "metadata": {},
     "output_type": "execute_result"
    }
   ],
   "source": [
    "full_pipeline.set_params(mlpclassifier__alpha=best_alpha)\n",
    "full_pipeline.fit(new_X_df, new_y_sr)"
   ]
  },
  {
   "cell_type": "code",
   "execution_count": 34,
   "metadata": {},
   "outputs": [
    {
     "data": {
      "text/plain": [
       "1.8867924528301883"
      ]
     },
     "execution_count": 34,
     "metadata": {},
     "output_type": "execute_result"
    }
   ],
   "source": [
    "(1 - full_pipeline.score(test_X_df, test_y_sr))*100"
   ]
  },
  {
   "cell_type": "code",
   "execution_count": 35,
   "metadata": {},
   "outputs": [
    {
     "data": {
      "text/plain": [
       "0.9787175107335733"
      ]
     },
     "execution_count": 35,
     "metadata": {},
     "output_type": "execute_result"
    }
   ],
   "source": [
    "(1 - r2_score(test_y_sr, full_pipeline.predict(test_X_df))) * 100"
   ]
  },
  {
   "cell_type": "code",
   "execution_count": null,
   "metadata": {},
   "outputs": [],
   "source": []
  },
  {
   "cell_type": "code",
   "execution_count": 36,
   "metadata": {},
   "outputs": [
    {
     "data": {
      "text/plain": [
       "<matplotlib.legend.Legend at 0x18d914494f0>"
      ]
     },
     "execution_count": 36,
     "metadata": {},
     "output_type": "execute_result"
    },
    {
     "data": {
      "image/png": "[encoded data removed]",
      "text/plain": [
       "<Figure size 432x288 with 1 Axes>"
      ]
     },
     "metadata": {
      "needs_background": "light"
     },
     "output_type": "display_data"
    }
   ],
   "source": [
    "plt.plot(test_y_sr.reset_index(drop=True))\n",
    "plt.plot(full_pipeline.predict(test_X_df))\n",
    "plt.legend(['y_test', 'y_test_pred'])"
   ]
  },
  {
   "cell_type": "markdown",
   "metadata": {},
   "source": [
    "## Thử nghiệm với mô hình .."
   ]
  },
  {
   "cell_type": "code",
   "execution_count": 37,
   "metadata": {},
   "outputs": [],
   "source": [
    "full_pipeline = make_pipeline(preprocess_pipeline, LinearRegression())\n"
   ]
  },
  {
   "cell_type": "code",
   "execution_count": 38,
   "metadata": {},
   "outputs": [
    {
     "data": {
      "text/plain": [
       "Pipeline(steps=[('pipeline',\n",
       "                 Pipeline(steps=[('coldropper', ColDropper()),\n",
       "                                 ('standardscaler', StandardScaler())])),\n",
       "                ('linearregression', LinearRegression())])"
      ]
     },
     "execution_count": 38,
     "metadata": {},
     "output_type": "execute_result"
    }
   ],
   "source": [
    "full_pipeline.fit(new_X_df, new_y_sr)"
   ]
  },
  {
   "cell_type": "code",
   "execution_count": 39,
   "metadata": {},
   "outputs": [
    {
     "data": {
      "text/plain": [
       "50.31261063223113"
      ]
     },
     "execution_count": 39,
     "metadata": {},
     "output_type": "execute_result"
    }
   ],
   "source": [
    "(1 - full_pipeline.score(test_X_df, test_y_sr))*100"
   ]
  },
  {
   "cell_type": "code",
   "execution_count": null,
   "metadata": {},
   "outputs": [],
   "source": []
  }
 ],
 "metadata": {
  "kernelspec": {
   "display_name": "Python 3",
   "language": "python",
   "name": "python3"
  },
  "language_info": {
   "codemirror_mode": {
    "name": "ipython",
    "version": 3
   },
   "file_extension": ".py",
   "mimetype": "text/x-python",
   "name": "python",
   "nbconvert_exporter": "python",
   "pygments_lexer": "ipython3",
   "version": "3.8.3"
  },
  "toc": {
   "base_numbering": 1,
   "nav_menu": {},
   "number_sections": false,
   "sideBar": true,
   "skip_h1_title": false,
   "title_cell": "Table of Contents",
   "title_sidebar": "Contents",
   "toc_cell": false,
   "toc_position": {
    "height": "calc(100% - 180px)",
    "left": "10px",
    "top": "150px",
    "width": "384px"
   },
   "toc_section_display": true,
   "toc_window_display": true
  }
 },
 "nbformat": 4,
 "nbformat_minor": 4
}
