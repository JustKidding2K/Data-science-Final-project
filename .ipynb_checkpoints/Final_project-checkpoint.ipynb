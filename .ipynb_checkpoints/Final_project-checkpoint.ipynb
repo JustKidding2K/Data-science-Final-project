{
 "cells": [
  {
   "cell_type": "markdown",
   "metadata": {},
   "source": [
    "<h1 align=\"center\">Data Science - Final Project</h1>\n",
    "<h1 align=\"center\">Air Quality</h1>\n",
    "\n",
    "<h4 align=\"center\">Thành viên nhóm</h4>\n",
    "\n",
    "|MSSV|Họ và Tên\n",
    "|:---|:-\n",
    "|18120212|Huỳnh Long Nam\n",
    "|18120293|Vòng Cảnh Chi\n"
   ]
  },
  {
   "cell_type": "markdown",
   "metadata": {},
   "source": [
    "# Giới thiệu đề tài"
   ]
  },
  {
   "cell_type": "markdown",
   "metadata": {},
   "source": [
    "Theo UNICEF, thực trạng ô nhiễm môi trường hiện nay khá nóng và đang diễn ra ở khắp nơi trên thế giới, đặc biệt tại các nước đang phát triển, trong đó có Việt Nam. Bên cạnh ô nhiễm môi trường đất, nước do chất thải từ các công ty, xí nghiệp chưa qua xử lý đúng quy trình bị xả thẳng ra môi trường thì chất thải, khói bụi từ hoạt động của các nhà máy sản xuất, khí thải từ các phương tiện giao thông,... đã làm cho chất lượng không khí, đặc biệt tại các thành phố lớn, giảm sút và ô nhiễm đáng kể gây ra ô nhiễm không khí khá trầm trọng. Ô nhiễm không khí làm cho mọi người phải tiếp xúc với các hạt mịn trong không khí bị ô nhiễm. Các hạt mịn này thâm nhập sâu vào phổi và hệ thống tim mạch, gây ra các bệnh đột quỵ, bệnh tim, ung thư phổi, bệnh phổi tắc nghẽn mãn tính và các bệnh nhiễm trùng đường hô hấp, ảnh hưởng tới các nền kinh tế và chất lượng cuộc sống của con người. \n",
    "\n",
    "Ô nhiễm không khí đe dọa sức khỏe của người dân ở khắp mọi nơi trên thế giới. Ước tính mới đây năm 2018 cho thấy rằng 9/10 người dân phải hít thở không khí chứa hàm lượng các chất gây ô nhiễm cao. Ô nhiễm không khí cả ở bên ngoài và trong nhà gây ra khoảng 7 triệu ca tử vong hàng năm trên toàn cầu; chỉ tính riêng khu vực Tây Thái Bình Dương, khoảng 2,2 triệu người tử vong mỗi năm. Ở Việt Nam, khoảng 60.000 người chết mỗi năm có liên quan đến ô nhiễm không khí.\n"
   ]
  },
  {
   "cell_type": "markdown",
   "metadata": {},
   "source": [
    "Vì vậy nhóm quyết định thu thập dữ liệu về chất lượng không khí ở các thành phố lớn, cụ thể là thành phố Hồ Chí Minh, để có những cái nhìn về chất lượng không khí nơi đó cũng như tại các thành phố lớn trên thế giới.\n",
    "\n",
    "Dừ liệu được nhóm em thu thập từ https://openweathermap.org"
   ]
  },
  {
   "cell_type": "markdown",
   "metadata": {},
   "source": [
    "## Import các thư viện cần thiết"
   ]
  },
  {
   "cell_type": "code",
   "execution_count": 1,
   "metadata": {},
   "outputs": [],
   "source": [
    "%matplotlib inline\n",
    "import matplotlib.pyplot as plt\n",
    "import requests\n",
    "import json\n",
    "import pandas as pd\n",
    "import numpy as np\n",
    "import csv\n",
    "\n",
    "from sklearn.model_selection import train_test_split\n",
    "from sklearn.preprocessing import StandardScaler\n",
    "from sklearn.base import BaseEstimator, TransformerMixin\n",
    "from sklearn.pipeline import make_pipeline\n",
    "from sklearn.neural_network import MLPClassifier\n",
    "from sklearn.tree import DecisionTreeClassifier\n",
    "from sklearn.linear_model import LinearRegression\n",
    "\n",
    "from sklearn.metrics import r2_score"
   ]
  },
  {
   "cell_type": "markdown",
   "metadata": {},
   "source": [
    "# Bắt đầu quá trình thu thập dữ liệu"
   ]
  },
  {
   "cell_type": "markdown",
   "metadata": {},
   "source": [
    "Chúng em sẽ thu thập dữ liệu thông qua api do trang https://openweathermap.org đã cung cấp sẵn và lưu và biến data.\n",
    "Api: http://api.openweathermap.org/data/2.5/air_pollution/history?lat=10.7546664&lon=106.415029&start=946726894&end=1610129052&appid=9f7c977884b479967cee75682a860b6b"
   ]
  },
  {
   "cell_type": "code",
   "execution_count": 2,
   "metadata": {},
   "outputs": [],
   "source": [
    "#REST API\n",
    "'''\n",
    "    Sử dụng api từ openweathermap.org\n",
    "    Lấy dữ liệu chất lượng không khí tại TP HCM từ 2000 - 2021 \n",
    "    Nhận được 1032 bộ dữ liệu ~ 3 năm\n",
    "\n",
    "'''\n",
    "data=requests.get('http://api.openweathermap.org/data/2.5/air_pollution/history?lat=10.7546664&lon=106.415029&start=946726894&end=1610129052&appid=9f7c977884b479967cee75682a860b6b')"
   ]
  },
  {
   "cell_type": "code",
   "execution_count": 3,
   "metadata": {},
   "outputs": [],
   "source": [
    "#Parse JSON\n",
    "air_quality=json.loads(data.text)"
   ]
  },
  {
   "cell_type": "code",
   "execution_count": 4,
   "metadata": {},
   "outputs": [
    {
     "data": {
      "text/plain": [
       "{'main': {'aqi': 2},\n",
       " 'components': {'co': 460.63,\n",
       "  'no': 0,\n",
       "  'no2': 15.08,\n",
       "  'o3': 25.03,\n",
       "  'so2': 7.87,\n",
       "  'pm2_5': 11.18,\n",
       "  'pm10': 15.02,\n",
       "  'nh3': 8.74},\n",
       " 'dt': 1610128800}"
      ]
     },
     "execution_count": 4,
     "metadata": {},
     "output_type": "execute_result"
    }
   ],
   "source": [
    "#Test\n",
    "air_quality['list'][0]"
   ]
  },
  {
   "cell_type": "markdown",
   "metadata": {},
   "source": [
    "Bên cạnh chỉ số Air Quality Index (AQI), API cũng trả về hàm lượng các khí ô nhiễm như \n",
    "\n",
    "\n",
    " + CO: Carbon monoxide\n",
    "    - Phát sinh khi đốt C trong điều kiện thiếu O2, thường bắt nguồn từ việc đốt nhiên liệu hóa thạch, các phương tiện giao thông\n",
    "    - Làm giảm lượng oxy có thể được vận chuyển trong máu đến các cơ quan quan trọng như tim và não, có thể gây chóng mặt, nhầm lẫn, bất tỉnh và tử vong\n",
    " \n",
    " + NO,NO2: Nitrogen monoxide,Nitrogen dioxide \n",
    "    - Chủ yếu bay vào không khí từ quá trình đốt cháy nhiên liệu. NO2 hình thành từ khí thải của ô tô, xe tải và xe buýt, nhà máy điện và thiết bị ngoài đường\n",
    "    - Gây kích ứng đường thở trong hệ hô hấp của con người,trong thời gian ngắn có thể làm nặng thêm các bệnh về đường hô hấp, đặc biệt là hen suyễn, dẫn đến các triệu chứng về đường hô hấp (như ho, khò khè hoặc khó thở)\n",
    "\n",
    " + O3: Ozone \n",
    "    - Nó được hình thành các phản ứng hóa học với sự có mặt của các chất ô nhiễm tiền chất như NOx và các hợp chất hữu cơ dễ bay hơi VOC\n",
    "    - Kích ứng và gây viêm mắt, mũi, họng và đường hô hấp dưới: ho, đau và cào họng hoặc cảm giác khó chịu ở ngực,giảm chức năng phổi: không thể thở sâu hoặc mạnh như bình thường, có thể tiếp tục làm hỏng phổi khi các triệu chứng đã biến mất\n",
    " + SO2: Sulphur dioxide  \n",
    "    - Nhà máy điện và nhà máy lọc dầu, chất tẩy rửa khô, trạm dịch vụ xăng dầu và đốt gỗ dân dụng, phương tiện trên đường\n",
    "    - Gây ảnh hưởng xấu đến chức năng hô hấp, đặc biệt đối với những người mắc bệnh hen suyễn\n",
    "    \n",
    " + NH3: Ammonia\n",
    "    \n",
    " + PM2.5 và PM10: bụi mịn có kích thước nhỏ hơn 2.5 và 10 μm\n",
    "    - Kết quả của các phản ứng phức tạp của các hóa chất như sulfur dioxide và nitơ oxit, là những chất gây ô nhiễm phát ra từ các nhà máy nhiệt điện, công nghiệp và phương tiện giao thông\n",
    "    - Gây ra các vấn đề sức khỏe nghiêm trọng\n",
    " \n",
    "\n",
    "\n"
   ]
  },
  {
   "cell_type": "code",
   "execution_count": 5,
   "metadata": {},
   "outputs": [],
   "source": [
    "#Simplize dicts\n",
    "def make_flat_dict(p):\n",
    "    res={};\n",
    "    components=p['components']\n",
    "    \n",
    "    res['dt']=p['dt']\n",
    "    res['co']=components['co']\n",
    "    res['no']=components['no']\n",
    "    res['no2']=components['no2']\n",
    "    res['o3']=components['o3']\n",
    "    res['so2']=components['so2']\n",
    "    res['pm2_5']=components['pm2_5']\n",
    "    res['pm10']=components['pm10']\n",
    "    res['nh3']=components['nh3']\n",
    "    res['aqi']=p['main']['aqi']\n",
    "    \n",
    "    return res\n",
    "    pass"
   ]
  },
  {
   "cell_type": "code",
   "execution_count": 6,
   "metadata": {},
   "outputs": [],
   "source": [
    "# Make list records\n",
    "list_records=[]\n",
    "for record in air_quality['list']:\n",
    "    list_records.append(make_flat_dict(record))\n",
    "    "
   ]
  },
  {
   "cell_type": "markdown",
   "metadata": {},
   "source": [
    "Kích thước dữ liệu thu được"
   ]
  },
  {
   "cell_type": "code",
   "execution_count": 7,
   "metadata": {},
   "outputs": [
    {
     "data": {
      "text/plain": [
       "1074"
      ]
     },
     "execution_count": 7,
     "metadata": {},
     "output_type": "execute_result"
    }
   ],
   "source": [
    "len(list_records)"
   ]
  },
  {
   "cell_type": "code",
   "execution_count": 8,
   "metadata": {},
   "outputs": [],
   "source": [
    "#Write to csv\n",
    "with open('air_quality.csv', 'w',newline='') as csvfile:\n",
    "        writer = csv.DictWriter(csvfile, fieldnames=list_records[0].keys())\n",
    "        writer.writeheader()\n",
    "        for data in list_records:\n",
    "            writer.writerow(data)"
   ]
  },
  {
   "cell_type": "markdown",
   "metadata": {},
   "source": [
    "---"
   ]
  },
  {
   "cell_type": "markdown",
   "metadata": {},
   "source": [
    "# Khám phá dữ liệu (đủ để có thể xác định câu hỏi)"
   ]
  },
  {
   "cell_type": "code",
   "execution_count": 9,
   "metadata": {},
   "outputs": [],
   "source": [
    "# Đọc dữ liệu từ file đã thu thập trước đó\n",
    "data_df = pd.read_csv('air_quality.csv')"
   ]
  },
  {
   "cell_type": "markdown",
   "metadata": {},
   "source": [
    "**Tổng quan về dữ liệu thu được**"
   ]
  },
  {
   "cell_type": "code",
   "execution_count": 10,
   "metadata": {},
   "outputs": [
    {
     "data": {
      "text/html": [
       "<div>\n",
       "<style scoped>\n",
       "    .dataframe tbody tr th:only-of-type {\n",
       "        vertical-align: middle;\n",
       "    }\n",
       "\n",
       "    .dataframe tbody tr th {\n",
       "        vertical-align: top;\n",
       "    }\n",
       "\n",
       "    .dataframe thead th {\n",
       "        text-align: right;\n",
       "    }\n",
       "</style>\n",
       "<table border=\"1\" class=\"dataframe\">\n",
       "  <thead>\n",
       "    <tr style=\"text-align: right;\">\n",
       "      <th></th>\n",
       "      <th>dt</th>\n",
       "      <th>co</th>\n",
       "      <th>no</th>\n",
       "      <th>no2</th>\n",
       "      <th>o3</th>\n",
       "      <th>so2</th>\n",
       "      <th>pm2_5</th>\n",
       "      <th>pm10</th>\n",
       "      <th>nh3</th>\n",
       "      <th>aqi</th>\n",
       "    </tr>\n",
       "  </thead>\n",
       "  <tbody>\n",
       "    <tr>\n",
       "      <th>0</th>\n",
       "      <td>1610128800</td>\n",
       "      <td>460.63</td>\n",
       "      <td>0.00</td>\n",
       "      <td>15.08</td>\n",
       "      <td>25.03</td>\n",
       "      <td>7.87</td>\n",
       "      <td>11.18</td>\n",
       "      <td>15.02</td>\n",
       "      <td>8.74</td>\n",
       "      <td>2</td>\n",
       "    </tr>\n",
       "    <tr>\n",
       "      <th>1</th>\n",
       "      <td>1610125200</td>\n",
       "      <td>460.63</td>\n",
       "      <td>0.00</td>\n",
       "      <td>16.62</td>\n",
       "      <td>25.39</td>\n",
       "      <td>7.57</td>\n",
       "      <td>11.64</td>\n",
       "      <td>16.03</td>\n",
       "      <td>9.25</td>\n",
       "      <td>2</td>\n",
       "    </tr>\n",
       "    <tr>\n",
       "      <th>2</th>\n",
       "      <td>1610121600</td>\n",
       "      <td>567.44</td>\n",
       "      <td>0.00</td>\n",
       "      <td>27.08</td>\n",
       "      <td>24.68</td>\n",
       "      <td>13.11</td>\n",
       "      <td>16.42</td>\n",
       "      <td>22.47</td>\n",
       "      <td>10.26</td>\n",
       "      <td>2</td>\n",
       "    </tr>\n",
       "    <tr>\n",
       "      <th>3</th>\n",
       "      <td>1610118000</td>\n",
       "      <td>821.11</td>\n",
       "      <td>0.00</td>\n",
       "      <td>49.35</td>\n",
       "      <td>21.99</td>\n",
       "      <td>28.13</td>\n",
       "      <td>28.67</td>\n",
       "      <td>39.75</td>\n",
       "      <td>13.17</td>\n",
       "      <td>4</td>\n",
       "    </tr>\n",
       "    <tr>\n",
       "      <th>4</th>\n",
       "      <td>1610114400</td>\n",
       "      <td>947.95</td>\n",
       "      <td>0.00</td>\n",
       "      <td>53.47</td>\n",
       "      <td>31.11</td>\n",
       "      <td>32.42</td>\n",
       "      <td>37.76</td>\n",
       "      <td>54.19</td>\n",
       "      <td>15.33</td>\n",
       "      <td>4</td>\n",
       "    </tr>\n",
       "    <tr>\n",
       "      <th>5</th>\n",
       "      <td>1610110800</td>\n",
       "      <td>907.90</td>\n",
       "      <td>0.00</td>\n",
       "      <td>43.87</td>\n",
       "      <td>57.22</td>\n",
       "      <td>27.42</td>\n",
       "      <td>43.63</td>\n",
       "      <td>60.96</td>\n",
       "      <td>15.45</td>\n",
       "      <td>4</td>\n",
       "    </tr>\n",
       "    <tr>\n",
       "      <th>6</th>\n",
       "      <td>1610107200</td>\n",
       "      <td>867.84</td>\n",
       "      <td>0.00</td>\n",
       "      <td>35.64</td>\n",
       "      <td>104.43</td>\n",
       "      <td>26.70</td>\n",
       "      <td>58.16</td>\n",
       "      <td>73.05</td>\n",
       "      <td>14.57</td>\n",
       "      <td>5</td>\n",
       "    </tr>\n",
       "    <tr>\n",
       "      <th>7</th>\n",
       "      <td>1610103600</td>\n",
       "      <td>774.38</td>\n",
       "      <td>0.03</td>\n",
       "      <td>28.45</td>\n",
       "      <td>164.51</td>\n",
       "      <td>26.94</td>\n",
       "      <td>72.66</td>\n",
       "      <td>84.56</td>\n",
       "      <td>11.40</td>\n",
       "      <td>5</td>\n",
       "    </tr>\n",
       "    <tr>\n",
       "      <th>8</th>\n",
       "      <td>1610100000</td>\n",
       "      <td>660.90</td>\n",
       "      <td>0.22</td>\n",
       "      <td>17.31</td>\n",
       "      <td>214.58</td>\n",
       "      <td>25.51</td>\n",
       "      <td>79.09</td>\n",
       "      <td>88.34</td>\n",
       "      <td>7.35</td>\n",
       "      <td>5</td>\n",
       "    </tr>\n",
       "    <tr>\n",
       "      <th>9</th>\n",
       "      <td>1610096400</td>\n",
       "      <td>640.87</td>\n",
       "      <td>0.34</td>\n",
       "      <td>11.82</td>\n",
       "      <td>246.05</td>\n",
       "      <td>29.56</td>\n",
       "      <td>89.68</td>\n",
       "      <td>98.06</td>\n",
       "      <td>4.88</td>\n",
       "      <td>5</td>\n",
       "    </tr>\n",
       "  </tbody>\n",
       "</table>\n",
       "</div>"
      ],
      "text/plain": [
       "           dt      co    no    no2      o3    so2  pm2_5   pm10    nh3  aqi\n",
       "0  1610128800  460.63  0.00  15.08   25.03   7.87  11.18  15.02   8.74    2\n",
       "1  1610125200  460.63  0.00  16.62   25.39   7.57  11.64  16.03   9.25    2\n",
       "2  1610121600  567.44  0.00  27.08   24.68  13.11  16.42  22.47  10.26    2\n",
       "3  1610118000  821.11  0.00  49.35   21.99  28.13  28.67  39.75  13.17    4\n",
       "4  1610114400  947.95  0.00  53.47   31.11  32.42  37.76  54.19  15.33    4\n",
       "5  1610110800  907.90  0.00  43.87   57.22  27.42  43.63  60.96  15.45    4\n",
       "6  1610107200  867.84  0.00  35.64  104.43  26.70  58.16  73.05  14.57    5\n",
       "7  1610103600  774.38  0.03  28.45  164.51  26.94  72.66  84.56  11.40    5\n",
       "8  1610100000  660.90  0.22  17.31  214.58  25.51  79.09  88.34   7.35    5\n",
       "9  1610096400  640.87  0.34  11.82  246.05  29.56  89.68  98.06   4.88    5"
      ]
     },
     "execution_count": 10,
     "metadata": {},
     "output_type": "execute_result"
    }
   ],
   "source": [
    "data_df.head(10)"
   ]
  },
  {
   "cell_type": "markdown",
   "metadata": {},
   "source": [
    "### Dữ liệu có bao nhiêu dòng và bao nhiêu cột?"
   ]
  },
  {
   "cell_type": "code",
   "execution_count": 11,
   "metadata": {},
   "outputs": [
    {
     "data": {
      "text/plain": [
       "(1074, 10)"
      ]
     },
     "execution_count": 11,
     "metadata": {},
     "output_type": "execute_result"
    }
   ],
   "source": [
    "data_df.shape"
   ]
  },
  {
   "cell_type": "markdown",
   "metadata": {},
   "source": [
    "## Tổng quan về dữ liệu"
   ]
  },
  {
   "cell_type": "markdown",
   "metadata": {},
   "source": [
    "Quan sát sơ bộ dữ liệu ta thấy mỗi dòng chứa số liệu của các loại chất khác nhau."
   ]
  },
  {
   "cell_type": "markdown",
   "metadata": {},
   "source": [
    "------Thêm mô tả về dữ liệu----------"
   ]
  },
  {
   "cell_type": "markdown",
   "metadata": {},
   "source": [
    "Đến đây, ta thấy dữ liệu đã ổn và sẵn sàng cho việc đưa ra câu hỏi về bộ dữ liệu."
   ]
  },
  {
   "cell_type": "markdown",
   "metadata": {},
   "source": [
    "---"
   ]
  },
  {
   "cell_type": "markdown",
   "metadata": {},
   "source": [
    "# Đưa ra câu hỏi cần trả lời"
   ]
  },
  {
   "cell_type": "markdown",
   "metadata": {},
   "source": [
    "Chất lượng không khí được tính thế nào từ các thông số không khí đo được từ môi trường.\n",
    "\n",
    "Nguồn cảm hứng của câu hỏi: Từ 1 bản tin thời sự trên VTV nói về việc ô nhiễm môi trường đang là một vấn nhức nhối trên toàn cầu."
   ]
  },
  {
   "cell_type": "markdown",
   "metadata": {},
   "source": [
    "## Ý nghĩ của việc trả lời được câu hỏi nêu trên:\n",
    "\n",
    "Nếu biết được chất lượng không khí sẽ có rất nhiều lợi ích.\n",
    "    - Nếu không khí có chất lượng tốt thì mọi người cần biết giữ gìn và bảo vệ bầu không khí trong lành đó.\n",
    "    - Nếu chất lượng không khí không tốt, thậm chí là độc hại thì người dân cần có các biện pháp bảo vệ bản thân như đeo khẩu trang, hạn chế ra khỏi nhà,... Các nhà chức trách cũng sẽ có được các thông tin cần thiết để đưa ra các biện pháp ứng phó kịp thời với việc ô nhiễm không khí đang diễn ra tùy theo mức độ khẩn cấp."
   ]
  },
  {
   "cell_type": "markdown",
   "metadata": {},
   "source": [
    "# Khám phá dữ liệu (để biết cách tách các tập)"
   ]
  },
  {
   "cell_type": "code",
   "execution_count": 12,
   "metadata": {},
   "outputs": [
    {
     "data": {
      "text/plain": [
       "dtype('int64')"
      ]
     },
     "execution_count": 12,
     "metadata": {},
     "output_type": "execute_result"
    }
   ],
   "source": [
    "# Cột output hiện có kiểu dữ liệu gì?\n",
    "data_df['aqi'].dtype"
   ]
  },
  {
   "cell_type": "code",
   "execution_count": 13,
   "metadata": {},
   "outputs": [
    {
     "data": {
      "text/plain": [
       "0"
      ]
     },
     "execution_count": 13,
     "metadata": {},
     "output_type": "execute_result"
    }
   ],
   "source": [
    "# Cột output có giá trị thiếu không?\n",
    "data_df['aqi'].isna().sum()"
   ]
  },
  {
   "cell_type": "code",
   "execution_count": 14,
   "metadata": {},
   "outputs": [
    {
     "data": {
      "text/plain": [
       "5    30.912477\n",
       "4    27.746741\n",
       "2    24.767225\n",
       "1     9.404097\n",
       "3     7.169460\n",
       "Name: aqi, dtype: float64"
      ]
     },
     "execution_count": 14,
     "metadata": {},
     "output_type": "execute_result"
    }
   ],
   "source": [
    "# Tỉ lệ các lớp trong cột output?\n",
    "data_df['aqi'].value_counts(normalize=True) * 100"
   ]
  },
  {
   "cell_type": "markdown",
   "metadata": {},
   "source": [
    "Như vậy cột output đã ở dạng số và không bị thiếu dữ liệu. Tỉ lệ các lớp cũng không có vấn đề gì."
   ]
  },
  {
   "cell_type": "markdown",
   "metadata": {},
   "source": [
    "## Tiền xử lý (tách các tập)"
   ]
  },
  {
   "cell_type": "markdown",
   "metadata": {},
   "source": [
    "Bây giờ ta sẽ thực hiện bước tiền xử lý là tách tập validation và tập kiểm tra ra.\n",
    "\n",
    "Ở đây, cột output của dữ liệu chính là cột 'aqi' (chất lượng không khí)."
   ]
  },
  {
   "cell_type": "code",
   "execution_count": 15,
   "metadata": {},
   "outputs": [],
   "source": [
    "# Tách X và y\n",
    "y_sr = data_df[\"aqi\"] # sr là viết tắt của series\n",
    "X_df = data_df.drop(\"aqi\", axis=1)"
   ]
  },
  {
   "cell_type": "markdown",
   "metadata": {},
   "source": [
    "Tách dữ liệu theo tỉ lệ: 80% cho tập train, 10% cho tập validation, 10% cho tập test."
   ]
  },
  {
   "cell_type": "code",
   "execution_count": 16,
   "metadata": {},
   "outputs": [],
   "source": [
    "# Tách tập (train, validation) và tập test\n",
    "new_X_df, test_X_df, new_y_sr, test_y_sr = train_test_split(X_df, y_sr, test_size = 0.1, \n",
    "                                                             stratify=y_sr, random_state=50)"
   ]
  },
  {
   "cell_type": "code",
   "execution_count": 17,
   "metadata": {},
   "outputs": [],
   "source": [
    "# Tách tập train và tập validation\n",
    "train_X_df, val_X_df, train_y_sr, val_y_sr = train_test_split(new_X_df, new_y_sr, test_size=(1/9), \n",
    "                                                              stratify=new_y_sr, random_state=50)"
   ]
  },
  {
   "cell_type": "code",
   "execution_count": 18,
   "metadata": {},
   "outputs": [
    {
     "data": {
      "text/plain": [
       "(858, 9)"
      ]
     },
     "execution_count": 18,
     "metadata": {},
     "output_type": "execute_result"
    }
   ],
   "source": [
    "train_X_df.shape"
   ]
  },
  {
   "cell_type": "code",
   "execution_count": 19,
   "metadata": {},
   "outputs": [
    {
     "data": {
      "text/plain": [
       "(858,)"
      ]
     },
     "execution_count": 19,
     "metadata": {},
     "output_type": "execute_result"
    }
   ],
   "source": [
    "train_y_sr.shape"
   ]
  },
  {
   "cell_type": "code",
   "execution_count": 20,
   "metadata": {},
   "outputs": [
    {
     "data": {
      "text/plain": [
       "(108, 9)"
      ]
     },
     "execution_count": 20,
     "metadata": {},
     "output_type": "execute_result"
    }
   ],
   "source": [
    "val_X_df.shape"
   ]
  },
  {
   "cell_type": "code",
   "execution_count": 21,
   "metadata": {},
   "outputs": [
    {
     "data": {
      "text/plain": [
       "(108,)"
      ]
     },
     "execution_count": 21,
     "metadata": {},
     "output_type": "execute_result"
    }
   ],
   "source": [
    "val_y_sr.shape"
   ]
  },
  {
   "cell_type": "code",
   "execution_count": 22,
   "metadata": {},
   "outputs": [
    {
     "data": {
      "text/plain": [
       "(108, 9)"
      ]
     },
     "execution_count": 22,
     "metadata": {},
     "output_type": "execute_result"
    }
   ],
   "source": [
    "test_X_df.shape"
   ]
  },
  {
   "cell_type": "code",
   "execution_count": 23,
   "metadata": {},
   "outputs": [
    {
     "data": {
      "text/plain": [
       "(108,)"
      ]
     },
     "execution_count": 23,
     "metadata": {},
     "output_type": "execute_result"
    }
   ],
   "source": [
    "test_y_sr.shape"
   ]
  },
  {
   "cell_type": "markdown",
   "metadata": {},
   "source": [
    "# Khám phá dữ liệu (tập huấn luyện)"
   ]
  },
  {
   "cell_type": "markdown",
   "metadata": {},
   "source": [
    "### Dữ liệu thu được đang ở dạng gì?"
   ]
  },
  {
   "cell_type": "code",
   "execution_count": 24,
   "metadata": {},
   "outputs": [
    {
     "data": {
      "text/plain": [
       "dt         int64\n",
       "co       float64\n",
       "no       float64\n",
       "no2      float64\n",
       "o3       float64\n",
       "so2      float64\n",
       "pm2_5    float64\n",
       "pm10     float64\n",
       "nh3      float64\n",
       "dtype: object"
      ]
     },
     "execution_count": 24,
     "metadata": {},
     "output_type": "execute_result"
    }
   ],
   "source": [
    "train_X_df.dtypes"
   ]
  },
  {
   "cell_type": "markdown",
   "metadata": {},
   "source": [
    "Như vậy, dữ liệu thu thập đều ở dạng mong muốn mà không phải xử lý gì thêm. Ở đây, tất cả các cột đều ở dạng số."
   ]
  },
  {
   "cell_type": "markdown",
   "metadata": {},
   "source": [
    "### Dữ liệu được phân bố ra sao?"
   ]
  },
  {
   "cell_type": "code",
   "execution_count": 25,
   "metadata": {},
   "outputs": [
    {
     "data": {
      "text/html": [
       "<div>\n",
       "<style scoped>\n",
       "    .dataframe tbody tr th:only-of-type {\n",
       "        vertical-align: middle;\n",
       "    }\n",
       "\n",
       "    .dataframe tbody tr th {\n",
       "        vertical-align: top;\n",
       "    }\n",
       "\n",
       "    .dataframe thead th {\n",
       "        text-align: right;\n",
       "    }\n",
       "</style>\n",
       "<table border=\"1\" class=\"dataframe\">\n",
       "  <thead>\n",
       "    <tr style=\"text-align: right;\">\n",
       "      <th></th>\n",
       "      <th>dt</th>\n",
       "      <th>co</th>\n",
       "      <th>no</th>\n",
       "      <th>no2</th>\n",
       "      <th>o3</th>\n",
       "      <th>so2</th>\n",
       "      <th>pm2_5</th>\n",
       "      <th>pm10</th>\n",
       "      <th>nh3</th>\n",
       "    </tr>\n",
       "  </thead>\n",
       "  <tbody>\n",
       "    <tr>\n",
       "      <th>missing_ratio</th>\n",
       "      <td>0.000000e+00</td>\n",
       "      <td>0.00</td>\n",
       "      <td>0.00</td>\n",
       "      <td>0.00</td>\n",
       "      <td>0.00</td>\n",
       "      <td>0.00</td>\n",
       "      <td>0.00</td>\n",
       "      <td>0.00</td>\n",
       "      <td>0.00</td>\n",
       "    </tr>\n",
       "    <tr>\n",
       "      <th>min</th>\n",
       "      <td>1.606266e+09</td>\n",
       "      <td>283.72</td>\n",
       "      <td>0.00</td>\n",
       "      <td>1.21</td>\n",
       "      <td>0.00</td>\n",
       "      <td>0.95</td>\n",
       "      <td>4.55</td>\n",
       "      <td>5.57</td>\n",
       "      <td>1.84</td>\n",
       "    </tr>\n",
       "    <tr>\n",
       "      <th>lower_quartile</th>\n",
       "      <td>1.607224e+09</td>\n",
       "      <td>487.30</td>\n",
       "      <td>0.00</td>\n",
       "      <td>6.90</td>\n",
       "      <td>12.30</td>\n",
       "      <td>2.60</td>\n",
       "      <td>15.20</td>\n",
       "      <td>18.60</td>\n",
       "      <td>5.10</td>\n",
       "    </tr>\n",
       "    <tr>\n",
       "      <th>median</th>\n",
       "      <td>1.608176e+09</td>\n",
       "      <td>694.30</td>\n",
       "      <td>0.20</td>\n",
       "      <td>15.00</td>\n",
       "      <td>39.30</td>\n",
       "      <td>4.70</td>\n",
       "      <td>30.60</td>\n",
       "      <td>38.40</td>\n",
       "      <td>7.60</td>\n",
       "    </tr>\n",
       "    <tr>\n",
       "      <th>upper_quartile</th>\n",
       "      <td>1.609152e+09</td>\n",
       "      <td>1174.90</td>\n",
       "      <td>1.30</td>\n",
       "      <td>30.20</td>\n",
       "      <td>64.90</td>\n",
       "      <td>13.20</td>\n",
       "      <td>59.20</td>\n",
       "      <td>70.50</td>\n",
       "      <td>11.80</td>\n",
       "    </tr>\n",
       "    <tr>\n",
       "      <th>max</th>\n",
       "      <td>1.610122e+09</td>\n",
       "      <td>4592.90</td>\n",
       "      <td>89.41</td>\n",
       "      <td>131.61</td>\n",
       "      <td>246.05</td>\n",
       "      <td>82.02</td>\n",
       "      <td>240.65</td>\n",
       "      <td>275.21</td>\n",
       "      <td>93.22</td>\n",
       "    </tr>\n",
       "  </tbody>\n",
       "</table>\n",
       "</div>"
      ],
      "text/plain": [
       "                          dt       co     no     no2      o3    so2   pm2_5  \\\n",
       "missing_ratio   0.000000e+00     0.00   0.00    0.00    0.00   0.00    0.00   \n",
       "min             1.606266e+09   283.72   0.00    1.21    0.00   0.95    4.55   \n",
       "lower_quartile  1.607224e+09   487.30   0.00    6.90   12.30   2.60   15.20   \n",
       "median          1.608176e+09   694.30   0.20   15.00   39.30   4.70   30.60   \n",
       "upper_quartile  1.609152e+09  1174.90   1.30   30.20   64.90  13.20   59.20   \n",
       "max             1.610122e+09  4592.90  89.41  131.61  246.05  82.02  240.65   \n",
       "\n",
       "                  pm10    nh3  \n",
       "missing_ratio     0.00   0.00  \n",
       "min               5.57   1.84  \n",
       "lower_quartile   18.60   5.10  \n",
       "median           38.40   7.60  \n",
       "upper_quartile   70.50  11.80  \n",
       "max             275.21  93.22  "
      ]
     },
     "execution_count": 25,
     "metadata": {},
     "output_type": "execute_result"
    }
   ],
   "source": [
    "def missing_ratio(df):\n",
    "    return (df.isna().mean() * 100).round(1)\n",
    "def lower_quartile(df):\n",
    "    return df.quantile(0.25).round(1)\n",
    "def median(df):\n",
    "    return df.quantile(0.5).round(1)\n",
    "def upper_quartile(df):\n",
    "    return df.quantile(0.75).round(1)\n",
    "train_X_df.agg([missing_ratio, 'min', lower_quartile, median, upper_quartile, 'max'])"
   ]
  },
  {
   "cell_type": "markdown",
   "metadata": {},
   "source": [
    "Như vậy là dữ liệu không có giá trị thiếu. Có thể thấy nguồn dữ liệu là rất tin cậy và đầy đủ"
   ]
  },
  {
   "cell_type": "markdown",
   "metadata": {},
   "source": [
    "## Tiền xử lý tập huấn luyện"
   ]
  },
  {
   "cell_type": "markdown",
   "metadata": {},
   "source": [
    "Với tập dữ liệu thu được, ta nhận thấy cột `dt` (Date and Time) ghi nhận số giây từ 1/1/1970 đến thời điểm thu thập dữ liệu là không cần thiết với việc đánh giá chất lượng không khí nên ta sẽ thực hiện xóa cột này đi. Việc này sẽ thực hiện trong hàm `ColDropper`."
   ]
  },
  {
   "cell_type": "code",
   "execution_count": 26,
   "metadata": {},
   "outputs": [],
   "source": [
    "class ColDropper(BaseEstimator, TransformerMixin):\n",
    "    def __init__(self):\n",
    "        pass\n",
    "    def fit(self, X_df, y=None):\n",
    "        return self\n",
    "    def transform(self, X_df, y=None):\n",
    "        df = X_df.drop('dt', axis=1)\n",
    "        return df"
   ]
  },
  {
   "cell_type": "code",
   "execution_count": 27,
   "metadata": {},
   "outputs": [
    {
     "data": {
      "text/plain": [
       "ColDropper()"
      ]
     },
     "execution_count": 27,
     "metadata": {},
     "output_type": "execute_result"
    }
   ],
   "source": [
    "col_dropper = ColDropper()\n",
    "col_dropper.fit(train_X_df)"
   ]
  },
  {
   "cell_type": "code",
   "execution_count": 28,
   "metadata": {},
   "outputs": [
    {
     "data": {
      "text/html": [
       "<div>\n",
       "<style scoped>\n",
       "    .dataframe tbody tr th:only-of-type {\n",
       "        vertical-align: middle;\n",
       "    }\n",
       "\n",
       "    .dataframe tbody tr th {\n",
       "        vertical-align: top;\n",
       "    }\n",
       "\n",
       "    .dataframe thead th {\n",
       "        text-align: right;\n",
       "    }\n",
       "</style>\n",
       "<table border=\"1\" class=\"dataframe\">\n",
       "  <thead>\n",
       "    <tr style=\"text-align: right;\">\n",
       "      <th></th>\n",
       "      <th>co</th>\n",
       "      <th>no</th>\n",
       "      <th>no2</th>\n",
       "      <th>o3</th>\n",
       "      <th>so2</th>\n",
       "      <th>pm2_5</th>\n",
       "      <th>pm10</th>\n",
       "      <th>nh3</th>\n",
       "    </tr>\n",
       "  </thead>\n",
       "  <tbody>\n",
       "    <tr>\n",
       "      <th>1010</th>\n",
       "      <td>2323.15</td>\n",
       "      <td>2.91</td>\n",
       "      <td>54.84</td>\n",
       "      <td>3.67</td>\n",
       "      <td>6.26</td>\n",
       "      <td>98.57</td>\n",
       "      <td>117.37</td>\n",
       "      <td>18.49</td>\n",
       "    </tr>\n",
       "    <tr>\n",
       "      <th>547</th>\n",
       "      <td>667.57</td>\n",
       "      <td>0.11</td>\n",
       "      <td>12.00</td>\n",
       "      <td>12.88</td>\n",
       "      <td>1.97</td>\n",
       "      <td>18.54</td>\n",
       "      <td>23.02</td>\n",
       "      <td>8.36</td>\n",
       "    </tr>\n",
       "    <tr>\n",
       "      <th>517</th>\n",
       "      <td>587.46</td>\n",
       "      <td>0.92</td>\n",
       "      <td>16.79</td>\n",
       "      <td>63.66</td>\n",
       "      <td>12.99</td>\n",
       "      <td>20.74</td>\n",
       "      <td>26.06</td>\n",
       "      <td>4.81</td>\n",
       "    </tr>\n",
       "    <tr>\n",
       "      <th>1073</th>\n",
       "      <td>727.65</td>\n",
       "      <td>3.07</td>\n",
       "      <td>11.14</td>\n",
       "      <td>10.10</td>\n",
       "      <td>2.53</td>\n",
       "      <td>22.03</td>\n",
       "      <td>29.62</td>\n",
       "      <td>7.09</td>\n",
       "    </tr>\n",
       "    <tr>\n",
       "      <th>895</th>\n",
       "      <td>1161.58</td>\n",
       "      <td>0.03</td>\n",
       "      <td>54.84</td>\n",
       "      <td>32.19</td>\n",
       "      <td>18.12</td>\n",
       "      <td>43.22</td>\n",
       "      <td>56.25</td>\n",
       "      <td>29.13</td>\n",
       "    </tr>\n",
       "  </tbody>\n",
       "</table>\n",
       "</div>"
      ],
      "text/plain": [
       "           co    no    no2     o3    so2  pm2_5    pm10    nh3\n",
       "1010  2323.15  2.91  54.84   3.67   6.26  98.57  117.37  18.49\n",
       "547    667.57  0.11  12.00  12.88   1.97  18.54   23.02   8.36\n",
       "517    587.46  0.92  16.79  63.66  12.99  20.74   26.06   4.81\n",
       "1073   727.65  3.07  11.14  10.10   2.53  22.03   29.62   7.09\n",
       "895   1161.58  0.03  54.84  32.19  18.12  43.22   56.25  29.13"
      ]
     },
     "execution_count": 28,
     "metadata": {},
     "output_type": "execute_result"
    }
   ],
   "source": [
    "#Test\n",
    "fewer_cols_train_X_df = col_dropper.transform(train_X_df)\n",
    "fewer_cols_train_X_df.head(5)"
   ]
  },
  {
   "cell_type": "markdown",
   "metadata": {},
   "source": [
    "# Tiền xử lý + mô hình hóa"
   ]
  },
  {
   "cell_type": "markdown",
   "metadata": {},
   "source": [
    "## Thử nghiệm với mô hình MLP"
   ]
  },
  {
   "cell_type": "markdown",
   "metadata": {},
   "source": [
    "Tạo pipeline với các với các siêu tham số `hidden_layer_sizes=(20), activation='tanh', solver='lbfgs', random_state=0, max_iter=2500)`."
   ]
  },
  {
   "cell_type": "code",
   "execution_count": 36,
   "metadata": {},
   "outputs": [],
   "source": [
    "pipeline = make_pipeline(ColDropper(),\n",
    "                         StandardScaler(),\n",
    "                         MLPClassifier(hidden_layer_sizes=(20), activation='tanh', solver='lbfgs', random_state=0, max_iter=2500))"
   ]
  },
  {
   "cell_type": "code",
   "execution_count": 37,
   "metadata": {},
   "outputs": [
    {
     "data": {
      "text/plain": [
       "'Finish!'"
      ]
     },
     "execution_count": 37,
     "metadata": {},
     "output_type": "execute_result"
    }
   ],
   "source": [
    "# Thử nghiệm với các giá trị khác nhau của các siêu tham số\n",
    "# và chọn ra các giá trị tốt nhất\n",
    "train_errs = []\n",
    "val_errs = []\n",
    "alphas = [0.01, 0.1, 1, 10, 100, 1000]\n",
    "best_val_err = float('inf'); best_alpha = None\n",
    "for alpha in alphas:\n",
    "    pipeline.set_params(mlpclassifier__alpha=alpha)\n",
    "    pipeline.fit(train_X_df, train_y_sr)\n",
    "    train_errs.append((1 - pipeline.score(train_X_df, train_y_sr))*100)\n",
    "    val_errs.append((1 - pipeline.score(val_X_df, val_y_sr))*100)\n",
    "    if val_errs[-1] <= best_val_err:\n",
    "        best_val_err = val_errs[-1]\n",
    "        best_alpha = alpha\n",
    "'Finish!'"
   ]
  },
  {
   "cell_type": "markdown",
   "metadata": {},
   "source": [
    "Độ lỗi trên tập huấn luyện và tập validation ứng với giá trị alpha như sau:"
   ]
  },
  {
   "cell_type": "code",
   "execution_count": 38,
   "metadata": {},
   "outputs": [
    {
     "data": {
      "text/html": [
       "<div>\n",
       "<style scoped>\n",
       "    .dataframe tbody tr th:only-of-type {\n",
       "        vertical-align: middle;\n",
       "    }\n",
       "\n",
       "    .dataframe tbody tr th {\n",
       "        vertical-align: top;\n",
       "    }\n",
       "\n",
       "    .dataframe thead th {\n",
       "        text-align: right;\n",
       "    }\n",
       "</style>\n",
       "<table border=\"1\" class=\"dataframe\">\n",
       "  <thead>\n",
       "    <tr style=\"text-align: right;\">\n",
       "      <th></th>\n",
       "      <th>Train Error</th>\n",
       "      <th>Validation Error</th>\n",
       "    </tr>\n",
       "    <tr>\n",
       "      <th>Alphas</th>\n",
       "      <th></th>\n",
       "      <th></th>\n",
       "    </tr>\n",
       "  </thead>\n",
       "  <tbody>\n",
       "    <tr>\n",
       "      <th>0.01</th>\n",
       "      <td>0.000000</td>\n",
       "      <td>1.851852</td>\n",
       "    </tr>\n",
       "    <tr>\n",
       "      <th>0.10</th>\n",
       "      <td>0.233100</td>\n",
       "      <td>1.851852</td>\n",
       "    </tr>\n",
       "    <tr>\n",
       "      <th>1.00</th>\n",
       "      <td>2.564103</td>\n",
       "      <td>2.777778</td>\n",
       "    </tr>\n",
       "    <tr>\n",
       "      <th>10.00</th>\n",
       "      <td>12.470862</td>\n",
       "      <td>12.037037</td>\n",
       "    </tr>\n",
       "    <tr>\n",
       "      <th>100.00</th>\n",
       "      <td>26.340326</td>\n",
       "      <td>26.851852</td>\n",
       "    </tr>\n",
       "    <tr>\n",
       "      <th>1000.00</th>\n",
       "      <td>68.997669</td>\n",
       "      <td>69.444444</td>\n",
       "    </tr>\n",
       "  </tbody>\n",
       "</table>\n",
       "</div>"
      ],
      "text/plain": [
       "         Train Error  Validation Error\n",
       "Alphas                                \n",
       "0.01        0.000000          1.851852\n",
       "0.10        0.233100          1.851852\n",
       "1.00        2.564103          2.777778\n",
       "10.00      12.470862         12.037037\n",
       "100.00     26.340326         26.851852\n",
       "1000.00    68.997669         69.444444"
      ]
     },
     "execution_count": 38,
     "metadata": {},
     "output_type": "execute_result"
    }
   ],
   "source": [
    "dic = {'Alphas': alphas, 'Train Error': train_errs, 'Validation Error': val_errs}\n",
    "pd.DataFrame(dic).set_index('Alphas')"
   ]
  },
  {
   "cell_type": "code",
   "execution_count": 39,
   "metadata": {},
   "outputs": [
    {
     "name": "stdout",
     "output_type": "stream",
     "text": [
      "Best validation error: 1.85\n",
      "Best alpha: 0.1\n"
     ]
    }
   ],
   "source": [
    "print(\"Best validation error: \" + str(best_val_err.round(2)))\n",
    "print(\"Best alpha: \" + str(best_alpha))"
   ]
  },
  {
   "cell_type": "markdown",
   "metadata": {},
   "source": [
    "Tạo full pipeline vói best alpha vừa tìm được, huấn luyện trên tập train + tập validation"
   ]
  },
  {
   "cell_type": "code",
   "execution_count": 40,
   "metadata": {},
   "outputs": [
    {
     "data": {
      "text/plain": [
       "Pipeline(steps=[('coldropper', ColDropper()),\n",
       "                ('standardscaler', StandardScaler()),\n",
       "                ('mlpclassifier',\n",
       "                 MLPClassifier(activation='tanh', alpha=0.1,\n",
       "                               hidden_layer_sizes=20, max_iter=2500,\n",
       "                               random_state=0, solver='lbfgs'))])"
      ]
     },
     "execution_count": 40,
     "metadata": {},
     "output_type": "execute_result"
    }
   ],
   "source": [
    "full_pipeline = pipeline.set_params(mlpclassifier__alpha=best_alpha)\n",
    "full_pipeline.fit(new_X_df, new_y_sr)"
   ]
  },
  {
   "cell_type": "markdown",
   "metadata": {},
   "source": [
    "### Độ lỗi trên tập test là:"
   ]
  },
  {
   "cell_type": "code",
   "execution_count": 41,
   "metadata": {},
   "outputs": [
    {
     "data": {
      "text/plain": [
       "6.481481481481477"
      ]
     },
     "execution_count": 41,
     "metadata": {},
     "output_type": "execute_result"
    }
   ],
   "source": [
    "(1 - full_pipeline.score(test_X_df, test_y_sr))*100"
   ]
  },
  {
   "cell_type": "markdown",
   "metadata": {},
   "source": [
    "### Nhận xét"
   ]
  },
  {
   "cell_type": "markdown",
   "metadata": {},
   "source": [
    "Với mô hình huấn luyện này, độ lỗi thu được trên tập test là ổn và có thể chấp nhận được => Mô hình phân lớp khá tốt khi chon siêu tham số alpha 1 cách hợp lí."
   ]
  },
  {
   "cell_type": "markdown",
   "metadata": {},
   "source": [
    "## Thử nghiệm với mô hình Decision Tree Classifier"
   ]
  },
  {
   "cell_type": "markdown",
   "metadata": {},
   "source": [
    "Tạo pipeline"
   ]
  },
  {
   "cell_type": "code",
   "execution_count": 31,
   "metadata": {},
   "outputs": [],
   "source": [
    "pipeline2 = make_pipeline(ColDropper(),\n",
    "                         StandardScaler(),\n",
    "                         DecisionTreeClassifier(random_state=0))"
   ]
  },
  {
   "cell_type": "code",
   "execution_count": 32,
   "metadata": {},
   "outputs": [],
   "source": [
    "# Fit dữ liệu vào mô hình.\n",
    "full_pipeline2 = pipeline2.fit(new_X_df, new_y_sr)"
   ]
  },
  {
   "cell_type": "markdown",
   "metadata": {},
   "source": [
    "Độ lỗi trên tập huấn luyện và tập validation:"
   ]
  },
  {
   "cell_type": "code",
   "execution_count": 35,
   "metadata": {},
   "outputs": [
    {
     "data": {
      "text/plain": [
       "0.0"
      ]
     },
     "execution_count": 35,
     "metadata": {},
     "output_type": "execute_result"
    }
   ],
   "source": [
    "(1 - full_pipeline2.score(new_X_df, new_y_sr))*100"
   ]
  },
  {
   "cell_type": "markdown",
   "metadata": {},
   "source": [
    "Độ lỗi trên tập test:"
   ]
  },
  {
   "cell_type": "code",
   "execution_count": 33,
   "metadata": {},
   "outputs": [
    {
     "data": {
      "text/plain": [
       "0.92592592592593"
      ]
     },
     "execution_count": 33,
     "metadata": {},
     "output_type": "execute_result"
    }
   ],
   "source": [
    "(1 - full_pipeline2.score(test_X_df, test_y_sr))*100"
   ]
  },
  {
   "cell_type": "markdown",
   "metadata": {},
   "source": [
    "### Nhận xét"
   ]
  },
  {
   "cell_type": "markdown",
   "metadata": {},
   "source": [
    "Vậy, trong trường hợp bài toán này thì Decision Tree thực hiện phân lớp với độ chính xác cao hơn trên tập test so với thuật  toán MLP."
   ]
  }
 ],
 "metadata": {
  "kernelspec": {
   "display_name": "Python 3",
   "language": "python",
   "name": "python3"
  },
  "language_info": {
   "codemirror_mode": {
    "name": "ipython",
    "version": 3
   },
   "file_extension": ".py",
   "mimetype": "text/x-python",
   "name": "python",
   "nbconvert_exporter": "python",
   "pygments_lexer": "ipython3",
   "version": "3.8.5"
  },
  "toc": {
   "base_numbering": 1,
   "nav_menu": {},
   "number_sections": false,
   "sideBar": true,
   "skip_h1_title": false,
   "title_cell": "Table of Contents",
   "title_sidebar": "Contents",
   "toc_cell": false,
   "toc_position": {
    "height": "calc(100% - 180px)",
    "left": "10px",
    "top": "150px",
    "width": "384px"
   },
   "toc_section_display": true,
   "toc_window_display": true
  }
 },
 "nbformat": 4,
 "nbformat_minor": 4
}
